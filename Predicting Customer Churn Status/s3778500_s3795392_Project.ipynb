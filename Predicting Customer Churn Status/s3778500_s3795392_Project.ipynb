{
 "cells": [
  {
   "cell_type": "markdown",
   "metadata": {},
   "source": [
    "<center><b><font size = \"6\">MATH2319 Course Project</font></b></center>\n",
    "<br>\n",
    "<center><b><font size = \"5\">Identifying Optimal Classifier to Predict Customer Churn Status</font></b></center>"
   ]
  },
  {
   "cell_type": "markdown",
   "metadata": {},
   "source": [
    "   "
   ]
  },
  {
   "cell_type": "markdown",
   "metadata": {},
   "source": [
    "<b><font>Group Name:</font></b><font> Group 6</font>\n",
    "<br><br>\n",
    "<b><font>Group Members:</font></b><br><font> - Aditya Kakde, s3778500</font><br><font> - Komal Mehta, s3795392</font>"
   ]
  },
  {
   "cell_type": "markdown",
   "metadata": {
    "toc": true
   },
   "source": [
    "<h1>Table of Contents<span class=\"tocSkip\"></span></h1>\n",
    "<div class=\"toc\"><ul class=\"toc-item\"><li><span><a><span class=\"toc-item-num\">1  </span>Abstract</a></span></li><li><span><a><span class=\"toc-item-num\">2  </span>Problem Statement</a></span></li><li><span><a><span class=\"toc-item-num\">3  </span>Data</a></span></li><li><span><a><span class=\"toc-item-num\">4  </span>Methodology</a></span></li><li><span><a><span class=\"toc-item-num\">5  </span>Data Preprocessing</a></span><ul class=\"toc-item\"><li><span><a><span class=\"toc-item-num\">5.1  </span>Import Data</a></span></li><li><span><a><span class=\"toc-item-num\">5.2  </span>Checking Dimensions and Datatypes</a></span></li><li><span><a><span class=\"toc-item-num\">5.3  </span>Checking and Handling Missing Values</a></span></li><li><span><a><span class=\"toc-item-num\">5.4  </span>Feature Check</a></span></li><li><span><a><span class=\"toc-item-num\">5.5  </span>Extract sample</a></span></li><li><span><a><span class=\"toc-item-num\">5.6  </span>Encoding the Features</a></span><ul class=\"toc-item\"><li><span><a><span class=\"toc-item-num\">5.6.1  </span>Encoding Binary Level Cateogrical Features</a></span></li><li><span><a><span class=\"toc-item-num\">5.6.2  </span>Encoding Non-Binary Level Cateogrical Features</a></span></li></ul></li><li><span><a><span class=\"toc-item-num\">5.7  </span>Separating Descriptive and Target Features</a></span></li><li><span><a><span class=\"toc-item-num\">5.8  </span>Scaling the Features</a></span></li></ul></li><li><span><a><span class=\"toc-item-num\">6  </span>Data Exploration</a></span><ul class=\"toc-item\"><li><span><a><span class=\"toc-item-num\">6.1  </span>Data Exploration using Univariate Plots</a></span></li><li><span><a><span class=\"toc-item-num\">6.2  </span>Data Exploration using Bivariate Plots</a></span></li><li><span><a><span class=\"toc-item-num\">6.3  </span>Data Exploration using Trivariate Plots</a></span></li></ul></li><li><span><a><span class=\"toc-item-num\">7  </span>Predictive Modelling</a></span><ul class=\"toc-item\"><li><span><a><span class=\"toc-item-num\">7.1  </span>Split Train and Test Data</a></span></li><li><span><a><span class=\"toc-item-num\">7.2  </span>Feature Selection</a></span></li><li><span><a><span class=\"toc-item-num\">7.3  </span>Cross Validation Method</a></span></li><li><span><a><span class=\"toc-item-num\">7.4  </span>Hyper Parameter Tuning</a></span><ul class=\"toc-item\"><li><span><a><span class=\"toc-item-num\">7.4.1  </span>For k-Nearest Neighbours</a></span></li><li><span><a><span class=\"toc-item-num\">7.4.2  </span>For Decision Tree</a></span></li><li><span><a><span class=\"toc-item-num\">7.4.3  </span>For Random Forests</a></span></li><li><span><a><span class=\"toc-item-num\">7.4.4  </span>For Naive-Bayes</a></span></li></ul></li><li><span><a><span class=\"toc-item-num\">7.5  </span>Performance Comparison</a></span><ul class=\"toc-item\"><li><span><a><span class=\"toc-item-num\">7.5.1  </span>Using AUC Score</a></span></li><li><span><a><span class=\"toc-item-num\">7.5.2  </span>Using other Performance Metrics</a></span></li></ul></li><li><span><a><span class=\"toc-item-num\">7.6  </span>Limitations</a></span></li></ul></li><li><span><a><span class=\"toc-item-num\">8  </span>Summary &amp; Conclusions</a></span></li><li><span><a><span class=\"toc-item-num\">9  </span>References</a></span></li></ul></div>"
   ]
  },
  {
   "cell_type": "markdown",
   "metadata": {},
   "source": [
    "***"
   ]
  },
  {
   "cell_type": "markdown",
   "metadata": {},
   "source": [
    "# 1. Abstract"
   ]
  },
  {
   "cell_type": "markdown",
   "metadata": {},
   "source": [
    "In the telecommunication business, it is common where customers switch between service providers. This action of a customer opting out of any service is called as Churning. As this adversely affects the business, it would be a likely situation where it is possible to predict if the customer will opt-out of a service. In this analysis we have implemented 4 classification algorithms to predict if the customer would opt-out of the service. For this classification, we used details like gender, if the customer is senior citizen, if the customer has dependents, the type of service customer opts for, contract type and many more. \n",
    "\n",
    "The goal for this analysis was to choose the best performing classification algorithm. This is important because different algorithms work well in different situations. It is important to identify the algorithm which works well for the data and the problem statement under consideration. For this analysis, Naive Bayes classifier worked better than other 3 classifiers.\n",
    "\n",
    "Let us now see the detailed analysis."
   ]
  },
  {
   "cell_type": "markdown",
   "metadata": {},
   "source": [
    "***"
   ]
  },
  {
   "cell_type": "markdown",
   "metadata": {},
   "source": [
    "# 2. Problem Statement"
   ]
  },
  {
   "cell_type": "markdown",
   "metadata": {},
   "source": [
    "For this analysis, we will start by defining the problem statement, which is given as below:\n",
    "\n",
    "**\"Choosing the best classification model out of k-Nearest Neighbours, Decision Tree, Random Forests and Naive Bayes to identify the churners using customer subscription and demographic data.\"**"
   ]
  },
  {
   "cell_type": "markdown",
   "metadata": {},
   "source": [
    "***"
   ]
  },
  {
   "cell_type": "markdown",
   "metadata": {},
   "source": [
    "# 3. Data"
   ]
  },
  {
   "cell_type": "markdown",
   "metadata": {},
   "source": [
    "The data for this analysis has been downloaded from [here](https://github.com/vaksakalli/datasets/blob/master/telco_customer_churn.csv) in csv format. As per the description provided [here](https://github.com/vaksakalli/datasets/blob/master/github_datasets_desc.ipynb), the downloaded data has 20 features and 7043 instances. Below are the features present in this data:\n",
    "\n",
    "* **gender:** Represents the gender of customer\n",
    "* **SeniorCitizen:** Represents if the customer is a senior citizen or not\n",
    "* **Partner:** Represents if the customer lives with a partner\n",
    "* **Dependents:** Represents if the customer has any dependents\n",
    "* **tenure:** Represents the number of months for which customer is using any of the service\n",
    "* **PhoneService:** Represents if customer uses the Phone Service\n",
    "* **MultipleLines:** For customers using the Phone Service, represents if the Multiple Lines service is used\n",
    "* **InternetService:** Represents if customer uses the Internet Service\n",
    "* **OnlineSecurity:** For customers using the Internet Service, represents if the Online Security Service is used\n",
    "* **OnlineBackup:** For customers using the Internet Service, represents if the Online Backup Service is used\n",
    "* **DeviceProtection:** For customers using the Internet Service, represents if the Device Protection Service is used\n",
    "* **TechSupport:** For customers using the Internet Service, represents if the TechSupport Service is used\n",
    "* **StreamingTV:** For customers using the Internet Service, represents if the Streaming TV Service is used\n",
    "* **StreamingMovies:** For customers using the Internet Service, represents if the Streaming Movies Service is used\n",
    "* **Contract:** Represents the contract length of customer\n",
    "* **PaperlessBilling:** Represents if the customer has opted for Paperless Billing\n",
    "* **PaymentMethod:** Represents which Payment Method has the customer opted for\n",
    "* **MonthlyCharges:** Represents the monthly charges paid by customer\n",
    "* **TotalCharges:** Represents total charges paid by customer through-out the tenure\n",
    "* **Churn:** Represents if the customer is a churner\n",
    "\n",
    "For any data which we feed into the algorithm, we need to identify the descriptive features and the target feature(s). Descriptive features are the features using which we train the model and make the predictions. Target feature is the feature which contains the values to be predicted. These values are used to train and test the model. In our analysis, where we will be predicting the churn status for customer, we will be using `Churn` as our target feature. For descriptive features, we will consider all the remaining features. \n",
    "\n",
    "So, we have 1 target feature and 19 descriptive features out of which 16 are nominal and 3 are continuous. Considering the descriptive features, `tenure`, `MonthlyCharges` and `TotalCharges` are continuous and rest all are nominal. Our target feature `Churn` which represents if the customer is a churner is a nominal feature with 2 levels.\n",
    "\n",
    "As our target feature is a nominal feature with 2 levels, our analysis is formally named as a **Binary Classification Problem**.\n",
    "\n",
    "Now, that we have a basic understanding about our data, let us discuss the methodology to be followed for this analysis."
   ]
  },
  {
   "cell_type": "markdown",
   "metadata": {},
   "source": [
    "***"
   ]
  },
  {
   "cell_type": "markdown",
   "metadata": {},
   "source": [
    "# 4. Methodology"
   ]
  },
  {
   "cell_type": "markdown",
   "metadata": {},
   "source": [
    "We will start by preparing the data. This will include performing below checks:\n",
    "* **Dimension and datatype check:** Verifying if the dimensions of imported data match with the original data. Also, check if the data types are correctly assigned for all the features.\n",
    "* **Missing values check:** Check if there are missing values in any of the feature.\n",
    "* **Feature check:** Check for other issues like extra-white spaces, impossible values and typos. Also check if multiple features represent redundant information. For instance, in binary level features, check if any of the features have same number of instances in each level. This is important because we do not want to pass redundant information to the classifying algorithm.\n",
    "\n",
    "After cleaning the data, we will extract a random sample of 1500 instances which we will feed in the algorithm. After extracting the sample, it is important to convert it into a form which the algorithm can understand. To accomplish this, we perform encoding. Encoding is the process of converting categorical features into numeric using one-hot encoding technique or integer encoding technique. Once the encoding has been performed, our entire data will be in numeric format. We will then separate the descriptive features and the target feature. Once we have separated the descriptive features, we will perform scaling on these features. Scaling is performed to balance the variability caused because of different ranges for each continuous feature. After performing all the above operations, our data will be ready to be fed into any classification algorithm.\n",
    "\n",
    "After cleaning and preparing the data, we will perform an exploratory analysis to understand the relationships between the descriptive and target features. For this exploratory analysis, we will use the entire dataset. \n",
    "\n",
    "After understanding how different features affect the target variable, we will start with predictive modelling. Here, we will use the sample of 1500 instances which we extracted from the entire data. We will start by splitting the data of descriptive and target features into train and test data. We will split the data in the ratio of 70:30. So, after splitting, we will have 1050 instances in training data and 450 instances in the testing data. After splitting the data, we will define the feature selection strategy. Feature selection is the process of identifying most important features. It also helps us to identify the optimal number of features to be used. Next, we will define the cross-validation method using which we will perform model evaluation. Cross-validation is the process of considering different partitions in the training data to fit and train the model. Here, we will divide the training data into 5 equally sized partitions and perform 3 repetitions.\n",
    "\n",
    "Once we have the training data and cross-validation method defined, we will proceed for fitting the below 4 classification models:\n",
    "1. k-Nearest Neighbours\n",
    "2. Decision Tree\n",
    "3. Random Forests\n",
    "4. Naive Bayes\n",
    "\n",
    "While fitting each of the above model, we will perform feature selection and hyperparameter tuning. The hyper-parameters are parameters which we use to fine tune the performance of any supervised machine learning algorithm. Hyperparameter tuning is simply the process of tuning these parameters to extract best performance out of the algorithm. \n",
    "\n",
    "This process is followed by fitting the model on testing data.\n",
    "\n",
    "Once the models have been fitted, using the test data, we will analyse the performance using various performance metrics. We will then compare the performances of all the models and conclude which model fits best for our data.\n",
    "\n",
    "We will conclude this analysis by commenting on the limitations for this approach. Finally, we will summarize all the results and findings of this analysis and end the report."
   ]
  },
  {
   "cell_type": "markdown",
   "metadata": {},
   "source": [
    "***"
   ]
  },
  {
   "cell_type": "markdown",
   "metadata": {},
   "source": [
    "# 5. Data Preprocessing"
   ]
  },
  {
   "cell_type": "markdown",
   "metadata": {},
   "source": [
    "Here, we will start by preparing the data for this analysis. We will first import the data in Python environment. Then will perform the above mentioned checks on the data and fix the issues wherever required."
   ]
  },
  {
   "cell_type": "markdown",
   "metadata": {},
   "source": [
    "## 5.1. Import Data"
   ]
  },
  {
   "cell_type": "markdown",
   "metadata": {},
   "source": [
    "To import the data,  will use `read_csv()` function from `Pandas` Python package. The imported data will be stored in data frame `dataSet`."
   ]
  },
  {
   "cell_type": "code",
   "execution_count": 1,
   "metadata": {},
   "outputs": [
    {
     "data": {
      "text/html": [
       "<div>\n",
       "<style scoped>\n",
       "    .dataframe tbody tr th:only-of-type {\n",
       "        vertical-align: middle;\n",
       "    }\n",
       "\n",
       "    .dataframe tbody tr th {\n",
       "        vertical-align: top;\n",
       "    }\n",
       "\n",
       "    .dataframe thead th {\n",
       "        text-align: right;\n",
       "    }\n",
       "</style>\n",
       "<table border=\"1\" class=\"dataframe\">\n",
       "  <thead>\n",
       "    <tr style=\"text-align: right;\">\n",
       "      <th></th>\n",
       "      <th>gender</th>\n",
       "      <th>SeniorCitizen</th>\n",
       "      <th>Partner</th>\n",
       "      <th>Dependents</th>\n",
       "      <th>tenure</th>\n",
       "      <th>PhoneService</th>\n",
       "      <th>MultipleLines</th>\n",
       "      <th>InternetService</th>\n",
       "      <th>OnlineSecurity</th>\n",
       "      <th>OnlineBackup</th>\n",
       "      <th>DeviceProtection</th>\n",
       "      <th>TechSupport</th>\n",
       "      <th>StreamingTV</th>\n",
       "      <th>StreamingMovies</th>\n",
       "      <th>Contract</th>\n",
       "      <th>PaperlessBilling</th>\n",
       "      <th>PaymentMethod</th>\n",
       "      <th>MonthlyCharges</th>\n",
       "      <th>TotalCharges</th>\n",
       "      <th>Churn</th>\n",
       "    </tr>\n",
       "  </thead>\n",
       "  <tbody>\n",
       "    <tr>\n",
       "      <th>0</th>\n",
       "      <td>Female</td>\n",
       "      <td>0</td>\n",
       "      <td>Yes</td>\n",
       "      <td>No</td>\n",
       "      <td>1</td>\n",
       "      <td>No</td>\n",
       "      <td>No phone service</td>\n",
       "      <td>DSL</td>\n",
       "      <td>No</td>\n",
       "      <td>Yes</td>\n",
       "      <td>No</td>\n",
       "      <td>No</td>\n",
       "      <td>No</td>\n",
       "      <td>No</td>\n",
       "      <td>Month-to-month</td>\n",
       "      <td>Yes</td>\n",
       "      <td>Electronic check</td>\n",
       "      <td>29.85</td>\n",
       "      <td>29.85</td>\n",
       "      <td>No</td>\n",
       "    </tr>\n",
       "    <tr>\n",
       "      <th>1</th>\n",
       "      <td>Male</td>\n",
       "      <td>0</td>\n",
       "      <td>No</td>\n",
       "      <td>No</td>\n",
       "      <td>34</td>\n",
       "      <td>Yes</td>\n",
       "      <td>No</td>\n",
       "      <td>DSL</td>\n",
       "      <td>Yes</td>\n",
       "      <td>No</td>\n",
       "      <td>Yes</td>\n",
       "      <td>No</td>\n",
       "      <td>No</td>\n",
       "      <td>No</td>\n",
       "      <td>One year</td>\n",
       "      <td>No</td>\n",
       "      <td>Mailed check</td>\n",
       "      <td>56.95</td>\n",
       "      <td>1889.5</td>\n",
       "      <td>No</td>\n",
       "    </tr>\n",
       "    <tr>\n",
       "      <th>2</th>\n",
       "      <td>Male</td>\n",
       "      <td>0</td>\n",
       "      <td>No</td>\n",
       "      <td>No</td>\n",
       "      <td>2</td>\n",
       "      <td>Yes</td>\n",
       "      <td>No</td>\n",
       "      <td>DSL</td>\n",
       "      <td>Yes</td>\n",
       "      <td>Yes</td>\n",
       "      <td>No</td>\n",
       "      <td>No</td>\n",
       "      <td>No</td>\n",
       "      <td>No</td>\n",
       "      <td>Month-to-month</td>\n",
       "      <td>Yes</td>\n",
       "      <td>Mailed check</td>\n",
       "      <td>53.85</td>\n",
       "      <td>108.15</td>\n",
       "      <td>Yes</td>\n",
       "    </tr>\n",
       "    <tr>\n",
       "      <th>3</th>\n",
       "      <td>Male</td>\n",
       "      <td>0</td>\n",
       "      <td>No</td>\n",
       "      <td>No</td>\n",
       "      <td>45</td>\n",
       "      <td>No</td>\n",
       "      <td>No phone service</td>\n",
       "      <td>DSL</td>\n",
       "      <td>Yes</td>\n",
       "      <td>No</td>\n",
       "      <td>Yes</td>\n",
       "      <td>Yes</td>\n",
       "      <td>No</td>\n",
       "      <td>No</td>\n",
       "      <td>One year</td>\n",
       "      <td>No</td>\n",
       "      <td>Bank transfer (automatic)</td>\n",
       "      <td>42.30</td>\n",
       "      <td>1840.75</td>\n",
       "      <td>No</td>\n",
       "    </tr>\n",
       "    <tr>\n",
       "      <th>4</th>\n",
       "      <td>Female</td>\n",
       "      <td>0</td>\n",
       "      <td>No</td>\n",
       "      <td>No</td>\n",
       "      <td>2</td>\n",
       "      <td>Yes</td>\n",
       "      <td>No</td>\n",
       "      <td>Fiber optic</td>\n",
       "      <td>No</td>\n",
       "      <td>No</td>\n",
       "      <td>No</td>\n",
       "      <td>No</td>\n",
       "      <td>No</td>\n",
       "      <td>No</td>\n",
       "      <td>Month-to-month</td>\n",
       "      <td>Yes</td>\n",
       "      <td>Electronic check</td>\n",
       "      <td>70.70</td>\n",
       "      <td>151.65</td>\n",
       "      <td>Yes</td>\n",
       "    </tr>\n",
       "  </tbody>\n",
       "</table>\n",
       "</div>"
      ],
      "text/plain": [
       "   gender  SeniorCitizen Partner Dependents  tenure PhoneService  \\\n",
       "0  Female              0     Yes         No       1           No   \n",
       "1    Male              0      No         No      34          Yes   \n",
       "2    Male              0      No         No       2          Yes   \n",
       "3    Male              0      No         No      45           No   \n",
       "4  Female              0      No         No       2          Yes   \n",
       "\n",
       "      MultipleLines InternetService OnlineSecurity OnlineBackup  \\\n",
       "0  No phone service             DSL             No          Yes   \n",
       "1                No             DSL            Yes           No   \n",
       "2                No             DSL            Yes          Yes   \n",
       "3  No phone service             DSL            Yes           No   \n",
       "4                No     Fiber optic             No           No   \n",
       "\n",
       "  DeviceProtection TechSupport StreamingTV StreamingMovies        Contract  \\\n",
       "0               No          No          No              No  Month-to-month   \n",
       "1              Yes          No          No              No        One year   \n",
       "2               No          No          No              No  Month-to-month   \n",
       "3              Yes         Yes          No              No        One year   \n",
       "4               No          No          No              No  Month-to-month   \n",
       "\n",
       "  PaperlessBilling              PaymentMethod  MonthlyCharges TotalCharges  \\\n",
       "0              Yes           Electronic check           29.85        29.85   \n",
       "1               No               Mailed check           56.95       1889.5   \n",
       "2              Yes               Mailed check           53.85       108.15   \n",
       "3               No  Bank transfer (automatic)           42.30      1840.75   \n",
       "4              Yes           Electronic check           70.70       151.65   \n",
       "\n",
       "  Churn  \n",
       "0    No  \n",
       "1    No  \n",
       "2   Yes  \n",
       "3    No  \n",
       "4   Yes  "
      ]
     },
     "execution_count": 1,
     "metadata": {},
     "output_type": "execute_result"
    }
   ],
   "source": [
    "import warnings\n",
    "warnings.filterwarnings(\"ignore\")\n",
    "\n",
    "#import pandas package\n",
    "import pandas as pd\n",
    "\n",
    "#set display option for Pandas dataframes\n",
    "pd.set_option('display.max_columns', None) \n",
    "\n",
    "#import data\n",
    "dataSet = pd.read_csv('s3778500_s3795392_Data.csv')\n",
    "\n",
    "#display first 5 rows\n",
    "dataSet.head()"
   ]
  },
  {
   "cell_type": "markdown",
   "metadata": {},
   "source": [
    "The above output displays first 5 instances in our data. As we can see, the data has been successfully imported. In our data, we have both categorical and continuous features. We can also see that the feature `SeniorCitizen` is already in encoded form.\n",
    "\n",
    "We will now check the dimensions and data types of our imported data."
   ]
  },
  {
   "cell_type": "markdown",
   "metadata": {},
   "source": [
    "## 5.2. Checking Dimensions and Datatypes"
   ]
  },
  {
   "cell_type": "code",
   "execution_count": 2,
   "metadata": {},
   "outputs": [
    {
     "name": "stdout",
     "output_type": "stream",
     "text": [
      "Number of Rows(Instances): 7043\n",
      "Number of Columns(Features): 20\n"
     ]
    }
   ],
   "source": [
    "#check dimensions\n",
    "print('Number of Rows(Instances):', dataSet.shape[0])\n",
    "print('Number of Columns(Features):', dataSet.shape[1])"
   ]
  },
  {
   "cell_type": "markdown",
   "metadata": {},
   "source": [
    "As seen in the output, our data has 7043 instances and 20 features. These dimension match exactly with the dimensions mentioned by the dataset provider. So, we can confirm that the data has been imported in the expected format. \n",
    "\n",
    "We will now check if all the features have been assigned correct data types."
   ]
  },
  {
   "cell_type": "code",
   "execution_count": 3,
   "metadata": {
    "scrolled": true
   },
   "outputs": [
    {
     "data": {
      "text/plain": [
       "gender               object\n",
       "SeniorCitizen         int64\n",
       "Partner              object\n",
       "Dependents           object\n",
       "tenure                int64\n",
       "PhoneService         object\n",
       "MultipleLines        object\n",
       "InternetService      object\n",
       "OnlineSecurity       object\n",
       "OnlineBackup         object\n",
       "DeviceProtection     object\n",
       "TechSupport          object\n",
       "StreamingTV          object\n",
       "StreamingMovies      object\n",
       "Contract             object\n",
       "PaperlessBilling     object\n",
       "PaymentMethod        object\n",
       "MonthlyCharges      float64\n",
       "TotalCharges         object\n",
       "Churn                object\n",
       "dtype: object"
      ]
     },
     "execution_count": 3,
     "metadata": {},
     "output_type": "execute_result"
    }
   ],
   "source": [
    "#check datatypes\n",
    "dataSet.dtypes"
   ]
  },
  {
   "cell_type": "markdown",
   "metadata": {},
   "source": [
    "As we can see in above output, all the features except `TotalCharges` seem to have been assigned correct data types. For the feature `SeniorCitizen`, assigned data type is `int64`. This feature already seems to be in encoded form. To confirm this, we will display all the unique values present for this feature using `unique()` function from `Pandas` Python package."
   ]
  },
  {
   "cell_type": "code",
   "execution_count": 4,
   "metadata": {},
   "outputs": [
    {
     "data": {
      "text/plain": [
       "array([0, 1], dtype=int64)"
      ]
     },
     "execution_count": 4,
     "metadata": {},
     "output_type": "execute_result"
    }
   ],
   "source": [
    "#verify unique values for SeniorCitizen\n",
    "dataSet['SeniorCitizen'].unique()"
   ]
  },
  {
   "cell_type": "markdown",
   "metadata": {},
   "source": [
    "From above output, there are just 2 unique values. Here we can safely assume this to be a categorical feature which represents if the customer is a senior citizen and which has been encoded.\n",
    "\n",
    "For `TotalCharges` feature, as per its name, the feature should contain numeric values. This situation where Python has assigned `object` data type by default tells us that there is a string value present for this column in the data. Such strings are usually used to represent missing values. We will address this issue in next section."
   ]
  },
  {
   "cell_type": "markdown",
   "metadata": {},
   "source": [
    "## 5.3. Checking and Handling Missing Values"
   ]
  },
  {
   "cell_type": "markdown",
   "metadata": {},
   "source": [
    "Here, we will check if there are missing values present in any of the feature."
   ]
  },
  {
   "cell_type": "code",
   "execution_count": 5,
   "metadata": {
    "scrolled": true
   },
   "outputs": [
    {
     "data": {
      "text/plain": [
       "gender              0\n",
       "SeniorCitizen       0\n",
       "Partner             0\n",
       "Dependents          0\n",
       "tenure              0\n",
       "PhoneService        0\n",
       "MultipleLines       0\n",
       "InternetService     0\n",
       "OnlineSecurity      0\n",
       "OnlineBackup        0\n",
       "DeviceProtection    0\n",
       "TechSupport         0\n",
       "StreamingTV         0\n",
       "StreamingMovies     0\n",
       "Contract            0\n",
       "PaperlessBilling    0\n",
       "PaymentMethod       0\n",
       "MonthlyCharges      0\n",
       "TotalCharges        0\n",
       "Churn               0\n",
       "dtype: int64"
      ]
     },
     "execution_count": 5,
     "metadata": {},
     "output_type": "execute_result"
    }
   ],
   "source": [
    "#check missing values\n",
    "dataSet.isna().sum()"
   ]
  },
  {
   "cell_type": "markdown",
   "metadata": {},
   "source": [
    "As seen in output, none of the features have missing values present in them. But, as mentioned previously, missing values can be represented by a string value. To check for such string values, we will print the unique values and their counts for all the features which have string(`object`) data type."
   ]
  },
  {
   "cell_type": "code",
   "execution_count": 6,
   "metadata": {
    "scrolled": true
   },
   "outputs": [
    {
     "name": "stdout",
     "output_type": "stream",
     "text": [
      "\n",
      "Unique Values for column gender\n",
      "Male      3555\n",
      "Female    3488\n",
      "Name: gender, dtype: int64\n",
      "\n",
      "Unique Values for column Partner\n",
      "No     3641\n",
      "Yes    3402\n",
      "Name: Partner, dtype: int64\n",
      "\n",
      "Unique Values for column Dependents\n",
      "No     4933\n",
      "Yes    2110\n",
      "Name: Dependents, dtype: int64\n",
      "\n",
      "Unique Values for column PhoneService\n",
      "Yes    6361\n",
      "No      682\n",
      "Name: PhoneService, dtype: int64\n",
      "\n",
      "Unique Values for column MultipleLines\n",
      "No                  3390\n",
      "Yes                 2971\n",
      "No phone service     682\n",
      "Name: MultipleLines, dtype: int64\n",
      "\n",
      "Unique Values for column InternetService\n",
      "Fiber optic    3096\n",
      "DSL            2421\n",
      "No             1526\n",
      "Name: InternetService, dtype: int64\n",
      "\n",
      "Unique Values for column OnlineSecurity\n",
      "No                     3498\n",
      "Yes                    2019\n",
      "No internet service    1526\n",
      "Name: OnlineSecurity, dtype: int64\n",
      "\n",
      "Unique Values for column OnlineBackup\n",
      "No                     3088\n",
      "Yes                    2429\n",
      "No internet service    1526\n",
      "Name: OnlineBackup, dtype: int64\n",
      "\n",
      "Unique Values for column DeviceProtection\n",
      "No                     3095\n",
      "Yes                    2422\n",
      "No internet service    1526\n",
      "Name: DeviceProtection, dtype: int64\n",
      "\n",
      "Unique Values for column TechSupport\n",
      "No                     3473\n",
      "Yes                    2044\n",
      "No internet service    1526\n",
      "Name: TechSupport, dtype: int64\n",
      "\n",
      "Unique Values for column StreamingTV\n",
      "No                     2810\n",
      "Yes                    2707\n",
      "No internet service    1526\n",
      "Name: StreamingTV, dtype: int64\n",
      "\n",
      "Unique Values for column StreamingMovies\n",
      "No                     2785\n",
      "Yes                    2732\n",
      "No internet service    1526\n",
      "Name: StreamingMovies, dtype: int64\n",
      "\n",
      "Unique Values for column Contract\n",
      "Month-to-month    3875\n",
      "Two year          1695\n",
      "One year          1473\n",
      "Name: Contract, dtype: int64\n",
      "\n",
      "Unique Values for column PaperlessBilling\n",
      "Yes    4171\n",
      "No     2872\n",
      "Name: PaperlessBilling, dtype: int64\n",
      "\n",
      "Unique Values for column PaymentMethod\n",
      "Electronic check             2365\n",
      "Mailed check                 1612\n",
      "Bank transfer (automatic)    1544\n",
      "Credit card (automatic)      1522\n",
      "Name: PaymentMethod, dtype: int64\n",
      "\n",
      "Unique Values for column TotalCharges\n",
      "           11\n",
      "20.2       11\n",
      "19.75       9\n",
      "19.9        8\n",
      "19.65       8\n",
      "           ..\n",
      "838.7       1\n",
      "4481        1\n",
      "6018.65     1\n",
      "164.5       1\n",
      "179.85      1\n",
      "Name: TotalCharges, Length: 6531, dtype: int64\n",
      "\n",
      "Unique Values for column Churn\n",
      "No     5174\n",
      "Yes    1869\n",
      "Name: Churn, dtype: int64\n"
     ]
    }
   ],
   "source": [
    "#check unique values with count for categorical features\n",
    "for col in dataSet.columns[dataSet.dtypes == object]:\n",
    "    print('\\nUnique Values for column', col)\n",
    "    print(dataSet[col].value_counts())"
   ]
  },
  {
   "cell_type": "markdown",
   "metadata": {},
   "source": [
    "As seen in above output, for any of the features except ```TotalCharges```, we do not have any string which is representing missing value. For ```TotalCharges``` feature, we can see that for 11 records(instances) we have a white space. This might be representing missing value. So, we can say that we have missing values for 11 instances out of 7043 instances which constitutes of around 0.15% of total data. \n",
    "\n",
    "So, instead of imputing these values, we will be dropping the rows where we have these missing values."
   ]
  },
  {
   "cell_type": "code",
   "execution_count": 7,
   "metadata": {},
   "outputs": [
    {
     "name": "stdout",
     "output_type": "stream",
     "text": [
      "Number of rows after dropping blank values: 7032\n"
     ]
    }
   ],
   "source": [
    "#eliminate rows where values for TotalCharges are blank\n",
    "dataSet = dataSet[dataSet['TotalCharges'] != ' ']\n",
    "\n",
    "#verify if rows are eliminated\n",
    "print('Number of rows after dropping blank values:', dataSet.shape[0])"
   ]
  },
  {
   "cell_type": "markdown",
   "metadata": {},
   "source": [
    "From above output, 11 records which have the missing value have been dropped. We will now assign the correct data type to `TotalCharges`, which is `float64`."
   ]
  },
  {
   "cell_type": "code",
   "execution_count": 8,
   "metadata": {},
   "outputs": [
    {
     "data": {
      "text/plain": [
       "dtype('float64')"
      ]
     },
     "execution_count": 8,
     "metadata": {},
     "output_type": "execute_result"
    }
   ],
   "source": [
    "#change data type for TotalCharges feature to float64\n",
    "dataSet.TotalCharges = dataSet.TotalCharges.astype(float)\n",
    "\n",
    "#verify if data type has been corrected\n",
    "dataSet.TotalCharges.dtypes"
   ]
  },
  {
   "cell_type": "markdown",
   "metadata": {},
   "source": [
    "From above output, `TotalCharges` feature has been assigned the correct data type.\n",
    "\n",
    "Now that we have corrected the data types and eliminated the missing values for all the features, we will check the above output of unique values and their counts for extra-white spaces and typos."
   ]
  },
  {
   "cell_type": "markdown",
   "metadata": {},
   "source": [
    "## 5.4. Feature Check"
   ]
  },
  {
   "cell_type": "markdown",
   "metadata": {},
   "source": [
    "Looking at the output for unique values and their counts in the previous section, no features have values which contain extra-white spaces or typos. \n",
    "\n",
    "For continuous features, we will compute the statistical summary to check if there are any impossible values."
   ]
  },
  {
   "cell_type": "code",
   "execution_count": 9,
   "metadata": {},
   "outputs": [
    {
     "data": {
      "text/html": [
       "<div>\n",
       "<style scoped>\n",
       "    .dataframe tbody tr th:only-of-type {\n",
       "        vertical-align: middle;\n",
       "    }\n",
       "\n",
       "    .dataframe tbody tr th {\n",
       "        vertical-align: top;\n",
       "    }\n",
       "\n",
       "    .dataframe thead th {\n",
       "        text-align: right;\n",
       "    }\n",
       "</style>\n",
       "<table border=\"1\" class=\"dataframe\">\n",
       "  <thead>\n",
       "    <tr style=\"text-align: right;\">\n",
       "      <th></th>\n",
       "      <th>SeniorCitizen</th>\n",
       "      <th>tenure</th>\n",
       "      <th>MonthlyCharges</th>\n",
       "      <th>TotalCharges</th>\n",
       "    </tr>\n",
       "  </thead>\n",
       "  <tbody>\n",
       "    <tr>\n",
       "      <th>count</th>\n",
       "      <td>7032.000</td>\n",
       "      <td>7032.000</td>\n",
       "      <td>7032.000</td>\n",
       "      <td>7032.000</td>\n",
       "    </tr>\n",
       "    <tr>\n",
       "      <th>mean</th>\n",
       "      <td>0.162</td>\n",
       "      <td>32.422</td>\n",
       "      <td>64.798</td>\n",
       "      <td>2283.300</td>\n",
       "    </tr>\n",
       "    <tr>\n",
       "      <th>std</th>\n",
       "      <td>0.369</td>\n",
       "      <td>24.545</td>\n",
       "      <td>30.086</td>\n",
       "      <td>2266.771</td>\n",
       "    </tr>\n",
       "    <tr>\n",
       "      <th>min</th>\n",
       "      <td>0.000</td>\n",
       "      <td>1.000</td>\n",
       "      <td>18.250</td>\n",
       "      <td>18.800</td>\n",
       "    </tr>\n",
       "    <tr>\n",
       "      <th>25%</th>\n",
       "      <td>0.000</td>\n",
       "      <td>9.000</td>\n",
       "      <td>35.588</td>\n",
       "      <td>401.450</td>\n",
       "    </tr>\n",
       "    <tr>\n",
       "      <th>50%</th>\n",
       "      <td>0.000</td>\n",
       "      <td>29.000</td>\n",
       "      <td>70.350</td>\n",
       "      <td>1397.475</td>\n",
       "    </tr>\n",
       "    <tr>\n",
       "      <th>75%</th>\n",
       "      <td>0.000</td>\n",
       "      <td>55.000</td>\n",
       "      <td>89.862</td>\n",
       "      <td>3794.738</td>\n",
       "    </tr>\n",
       "    <tr>\n",
       "      <th>max</th>\n",
       "      <td>1.000</td>\n",
       "      <td>72.000</td>\n",
       "      <td>118.750</td>\n",
       "      <td>8684.800</td>\n",
       "    </tr>\n",
       "  </tbody>\n",
       "</table>\n",
       "</div>"
      ],
      "text/plain": [
       "       SeniorCitizen    tenure  MonthlyCharges  TotalCharges\n",
       "count       7032.000  7032.000        7032.000      7032.000\n",
       "mean           0.162    32.422          64.798      2283.300\n",
       "std            0.369    24.545          30.086      2266.771\n",
       "min            0.000     1.000          18.250        18.800\n",
       "25%            0.000     9.000          35.588       401.450\n",
       "50%            0.000    29.000          70.350      1397.475\n",
       "75%            0.000    55.000          89.862      3794.738\n",
       "max            1.000    72.000         118.750      8684.800"
      ]
     },
     "execution_count": 9,
     "metadata": {},
     "output_type": "execute_result"
    }
   ],
   "source": [
    "# display statistical summary for numeric features\n",
    "dataSet.describe().round(3)"
   ]
  },
  {
   "cell_type": "markdown",
   "metadata": {},
   "source": [
    "From above output, all the continuous seem to have possible and valid values.\n",
    "\n",
    "Now, that we have cleaned the data, we will extract a random sample of 1500 records to fit the classification models. This is a good practice as tuning and fitting model is a resource intensive task. Once the model has been tuned and fitted on the sample data, we can use it on the entire data set."
   ]
  },
  {
   "cell_type": "markdown",
   "metadata": {},
   "source": [
    "## 5.5. Extract sample"
   ]
  },
  {
   "cell_type": "markdown",
   "metadata": {},
   "source": [
    "We will extract the sample using `sample()` function from `Pandas` Python package and store it in data frame `dataSet_sample`."
   ]
  },
  {
   "cell_type": "code",
   "execution_count": 10,
   "metadata": {},
   "outputs": [
    {
     "name": "stdout",
     "output_type": "stream",
     "text": [
      "Number of Rows(Instances): 1500\n",
      "Number of Columns(Features): 20\n"
     ]
    }
   ],
   "source": [
    "#extract sample\n",
    "dataSet_sample = dataSet.sample(n=1500, random_state=111)\n",
    "\n",
    "#check dimensions\n",
    "print('Number of Rows(Instances):', dataSet_sample.shape[0])\n",
    "print('Number of Columns(Features):', dataSet_sample.shape[1])"
   ]
  },
  {
   "cell_type": "markdown",
   "metadata": {},
   "source": [
    "From above output, we have successfully extracted a sample of 1500 instances.\n",
    "\n",
    "Now, we will proceed towards making this sample compatible for the classification algorithms. The basic requirement for the implementation of any supervised machine learning algorithm in Python is that all the data should be in numeric format. For this purpose, we will perform encoding."
   ]
  },
  {
   "cell_type": "markdown",
   "metadata": {},
   "source": [
    "## 5.6. Encoding the Features"
   ]
  },
  {
   "cell_type": "markdown",
   "metadata": {},
   "source": [
    "As we have all the categorical features as nominal, we will perform one-hot encoding. In one-hot encoding, for a feature with q categories, we create q-1 columns where each column represents a category. Each of this column is binary and contains just 2 values, viz., 0 and 1. For the instances belonging to the category, this value is 1; it is zero for other categories. This way, we are able to represent categorical information using the binary numeric features.\n",
    "\n",
    "Considering the way Python performs encoding, we will perform encoding separately for features with binary levels and non-binary levels. In both the cases, we will perform the encoding using `get_dummies()` function from `Pandas` Python package. We will start the encoding by fetching the names of categorical features."
   ]
  },
  {
   "cell_type": "code",
   "execution_count": 11,
   "metadata": {},
   "outputs": [
    {
     "data": {
      "text/plain": [
       "Index(['gender', 'Partner', 'Dependents', 'PhoneService', 'MultipleLines',\n",
       "       'InternetService', 'OnlineSecurity', 'OnlineBackup', 'DeviceProtection',\n",
       "       'TechSupport', 'StreamingTV', 'StreamingMovies', 'Contract',\n",
       "       'PaperlessBilling', 'PaymentMethod', 'Churn'],\n",
       "      dtype='object')"
      ]
     },
     "execution_count": 11,
     "metadata": {},
     "output_type": "execute_result"
    }
   ],
   "source": [
    "# Extract categorical feature names\n",
    "catgr_cols = dataSet_sample.columns[dataSet_sample.dtypes == 'object']\n",
    "\n",
    "#display categorical feature names\n",
    "catgr_cols"
   ]
  },
  {
   "cell_type": "markdown",
   "metadata": {},
   "source": [
    "### 5.6.1. Encoding Binary Level Cateogrical Features"
   ]
  },
  {
   "cell_type": "markdown",
   "metadata": {},
   "source": [
    "While performing the encoding for categorical features with binary levels, we will set the option `drop_first` in `get_dummies()` function to `True`. This will ensure we do not get a new column added. This is important bacause, for a feature with just 2 categories, one column is enough to repesent 2 categories where 0 will represent the 1st cateogry and 1 will respresent the 2nd category."
   ]
  },
  {
   "cell_type": "code",
   "execution_count": 12,
   "metadata": {},
   "outputs": [],
   "source": [
    "#perform one-hot encoding for binary level categorical features\n",
    "for col in catgr_cols:\n",
    "    n = len(dataSet_sample[col].unique())\n",
    "    if (n == 2):\n",
    "        dataSet_sample[col] = pd.get_dummies(dataSet_sample[col], drop_first=True)"
   ]
  },
  {
   "cell_type": "markdown",
   "metadata": {},
   "source": [
    "### 5.6.2. Encoding Non-Binary Level Cateogrical Features"
   ]
  },
  {
   "cell_type": "markdown",
   "metadata": {},
   "source": [
    "Here, we will perform the encoding for features with non-binary levels. For this we will not set any option for `get_dummies()` function and allow Python to perform the encoding using its defaults settings."
   ]
  },
  {
   "cell_type": "code",
   "execution_count": 13,
   "metadata": {},
   "outputs": [],
   "source": [
    "#perform one-hot encoding for non-binary level categorical features\n",
    "dataSet_sample = pd.get_dummies(dataSet_sample)"
   ]
  },
  {
   "cell_type": "markdown",
   "metadata": {},
   "source": [
    "Now, that we have performed the encoding for all the categorical features, we will verify this by displaying the first 5 instances of our encode data."
   ]
  },
  {
   "cell_type": "code",
   "execution_count": 14,
   "metadata": {},
   "outputs": [
    {
     "data": {
      "text/html": [
       "<div>\n",
       "<style scoped>\n",
       "    .dataframe tbody tr th:only-of-type {\n",
       "        vertical-align: middle;\n",
       "    }\n",
       "\n",
       "    .dataframe tbody tr th {\n",
       "        vertical-align: top;\n",
       "    }\n",
       "\n",
       "    .dataframe thead th {\n",
       "        text-align: right;\n",
       "    }\n",
       "</style>\n",
       "<table border=\"1\" class=\"dataframe\">\n",
       "  <thead>\n",
       "    <tr style=\"text-align: right;\">\n",
       "      <th></th>\n",
       "      <th>gender</th>\n",
       "      <th>SeniorCitizen</th>\n",
       "      <th>Partner</th>\n",
       "      <th>Dependents</th>\n",
       "      <th>tenure</th>\n",
       "      <th>PhoneService</th>\n",
       "      <th>PaperlessBilling</th>\n",
       "      <th>MonthlyCharges</th>\n",
       "      <th>TotalCharges</th>\n",
       "      <th>Churn</th>\n",
       "      <th>MultipleLines_No</th>\n",
       "      <th>MultipleLines_No phone service</th>\n",
       "      <th>MultipleLines_Yes</th>\n",
       "      <th>InternetService_DSL</th>\n",
       "      <th>InternetService_Fiber optic</th>\n",
       "      <th>InternetService_No</th>\n",
       "      <th>OnlineSecurity_No</th>\n",
       "      <th>OnlineSecurity_No internet service</th>\n",
       "      <th>OnlineSecurity_Yes</th>\n",
       "      <th>OnlineBackup_No</th>\n",
       "      <th>OnlineBackup_No internet service</th>\n",
       "      <th>OnlineBackup_Yes</th>\n",
       "      <th>DeviceProtection_No</th>\n",
       "      <th>DeviceProtection_No internet service</th>\n",
       "      <th>DeviceProtection_Yes</th>\n",
       "      <th>TechSupport_No</th>\n",
       "      <th>TechSupport_No internet service</th>\n",
       "      <th>TechSupport_Yes</th>\n",
       "      <th>StreamingTV_No</th>\n",
       "      <th>StreamingTV_No internet service</th>\n",
       "      <th>StreamingTV_Yes</th>\n",
       "      <th>StreamingMovies_No</th>\n",
       "      <th>StreamingMovies_No internet service</th>\n",
       "      <th>StreamingMovies_Yes</th>\n",
       "      <th>Contract_Month-to-month</th>\n",
       "      <th>Contract_One year</th>\n",
       "      <th>Contract_Two year</th>\n",
       "      <th>PaymentMethod_Bank transfer (automatic)</th>\n",
       "      <th>PaymentMethod_Credit card (automatic)</th>\n",
       "      <th>PaymentMethod_Electronic check</th>\n",
       "      <th>PaymentMethod_Mailed check</th>\n",
       "    </tr>\n",
       "  </thead>\n",
       "  <tbody>\n",
       "    <tr>\n",
       "      <th>3470</th>\n",
       "      <td>1</td>\n",
       "      <td>0</td>\n",
       "      <td>1</td>\n",
       "      <td>1</td>\n",
       "      <td>8</td>\n",
       "      <td>1</td>\n",
       "      <td>1</td>\n",
       "      <td>51.3</td>\n",
       "      <td>411.60</td>\n",
       "      <td>0</td>\n",
       "      <td>1</td>\n",
       "      <td>0</td>\n",
       "      <td>0</td>\n",
       "      <td>1</td>\n",
       "      <td>0</td>\n",
       "      <td>0</td>\n",
       "      <td>0</td>\n",
       "      <td>0</td>\n",
       "      <td>1</td>\n",
       "      <td>1</td>\n",
       "      <td>0</td>\n",
       "      <td>0</td>\n",
       "      <td>1</td>\n",
       "      <td>0</td>\n",
       "      <td>0</td>\n",
       "      <td>1</td>\n",
       "      <td>0</td>\n",
       "      <td>0</td>\n",
       "      <td>1</td>\n",
       "      <td>0</td>\n",
       "      <td>0</td>\n",
       "      <td>1</td>\n",
       "      <td>0</td>\n",
       "      <td>0</td>\n",
       "      <td>1</td>\n",
       "      <td>0</td>\n",
       "      <td>0</td>\n",
       "      <td>0</td>\n",
       "      <td>1</td>\n",
       "      <td>0</td>\n",
       "      <td>0</td>\n",
       "    </tr>\n",
       "    <tr>\n",
       "      <th>354</th>\n",
       "      <td>0</td>\n",
       "      <td>1</td>\n",
       "      <td>0</td>\n",
       "      <td>0</td>\n",
       "      <td>21</td>\n",
       "      <td>0</td>\n",
       "      <td>1</td>\n",
       "      <td>41.9</td>\n",
       "      <td>840.10</td>\n",
       "      <td>1</td>\n",
       "      <td>0</td>\n",
       "      <td>1</td>\n",
       "      <td>0</td>\n",
       "      <td>1</td>\n",
       "      <td>0</td>\n",
       "      <td>0</td>\n",
       "      <td>0</td>\n",
       "      <td>0</td>\n",
       "      <td>1</td>\n",
       "      <td>1</td>\n",
       "      <td>0</td>\n",
       "      <td>0</td>\n",
       "      <td>1</td>\n",
       "      <td>0</td>\n",
       "      <td>0</td>\n",
       "      <td>1</td>\n",
       "      <td>0</td>\n",
       "      <td>0</td>\n",
       "      <td>0</td>\n",
       "      <td>0</td>\n",
       "      <td>1</td>\n",
       "      <td>1</td>\n",
       "      <td>0</td>\n",
       "      <td>0</td>\n",
       "      <td>1</td>\n",
       "      <td>0</td>\n",
       "      <td>0</td>\n",
       "      <td>0</td>\n",
       "      <td>0</td>\n",
       "      <td>1</td>\n",
       "      <td>0</td>\n",
       "    </tr>\n",
       "    <tr>\n",
       "      <th>2331</th>\n",
       "      <td>0</td>\n",
       "      <td>0</td>\n",
       "      <td>1</td>\n",
       "      <td>0</td>\n",
       "      <td>25</td>\n",
       "      <td>1</td>\n",
       "      <td>1</td>\n",
       "      <td>26.8</td>\n",
       "      <td>733.55</td>\n",
       "      <td>0</td>\n",
       "      <td>0</td>\n",
       "      <td>0</td>\n",
       "      <td>1</td>\n",
       "      <td>0</td>\n",
       "      <td>0</td>\n",
       "      <td>1</td>\n",
       "      <td>0</td>\n",
       "      <td>1</td>\n",
       "      <td>0</td>\n",
       "      <td>0</td>\n",
       "      <td>1</td>\n",
       "      <td>0</td>\n",
       "      <td>0</td>\n",
       "      <td>1</td>\n",
       "      <td>0</td>\n",
       "      <td>0</td>\n",
       "      <td>1</td>\n",
       "      <td>0</td>\n",
       "      <td>0</td>\n",
       "      <td>1</td>\n",
       "      <td>0</td>\n",
       "      <td>0</td>\n",
       "      <td>1</td>\n",
       "      <td>0</td>\n",
       "      <td>0</td>\n",
       "      <td>1</td>\n",
       "      <td>0</td>\n",
       "      <td>0</td>\n",
       "      <td>0</td>\n",
       "      <td>0</td>\n",
       "      <td>1</td>\n",
       "    </tr>\n",
       "    <tr>\n",
       "      <th>2926</th>\n",
       "      <td>0</td>\n",
       "      <td>0</td>\n",
       "      <td>1</td>\n",
       "      <td>0</td>\n",
       "      <td>69</td>\n",
       "      <td>1</td>\n",
       "      <td>1</td>\n",
       "      <td>116.0</td>\n",
       "      <td>8182.85</td>\n",
       "      <td>0</td>\n",
       "      <td>0</td>\n",
       "      <td>0</td>\n",
       "      <td>1</td>\n",
       "      <td>0</td>\n",
       "      <td>1</td>\n",
       "      <td>0</td>\n",
       "      <td>0</td>\n",
       "      <td>0</td>\n",
       "      <td>1</td>\n",
       "      <td>0</td>\n",
       "      <td>0</td>\n",
       "      <td>1</td>\n",
       "      <td>0</td>\n",
       "      <td>0</td>\n",
       "      <td>1</td>\n",
       "      <td>0</td>\n",
       "      <td>0</td>\n",
       "      <td>1</td>\n",
       "      <td>0</td>\n",
       "      <td>0</td>\n",
       "      <td>1</td>\n",
       "      <td>0</td>\n",
       "      <td>0</td>\n",
       "      <td>1</td>\n",
       "      <td>0</td>\n",
       "      <td>0</td>\n",
       "      <td>1</td>\n",
       "      <td>0</td>\n",
       "      <td>0</td>\n",
       "      <td>1</td>\n",
       "      <td>0</td>\n",
       "    </tr>\n",
       "    <tr>\n",
       "      <th>5400</th>\n",
       "      <td>0</td>\n",
       "      <td>0</td>\n",
       "      <td>0</td>\n",
       "      <td>0</td>\n",
       "      <td>33</td>\n",
       "      <td>1</td>\n",
       "      <td>1</td>\n",
       "      <td>70.4</td>\n",
       "      <td>2406.10</td>\n",
       "      <td>0</td>\n",
       "      <td>1</td>\n",
       "      <td>0</td>\n",
       "      <td>0</td>\n",
       "      <td>0</td>\n",
       "      <td>1</td>\n",
       "      <td>0</td>\n",
       "      <td>1</td>\n",
       "      <td>0</td>\n",
       "      <td>0</td>\n",
       "      <td>1</td>\n",
       "      <td>0</td>\n",
       "      <td>0</td>\n",
       "      <td>1</td>\n",
       "      <td>0</td>\n",
       "      <td>0</td>\n",
       "      <td>1</td>\n",
       "      <td>0</td>\n",
       "      <td>0</td>\n",
       "      <td>1</td>\n",
       "      <td>0</td>\n",
       "      <td>0</td>\n",
       "      <td>1</td>\n",
       "      <td>0</td>\n",
       "      <td>0</td>\n",
       "      <td>1</td>\n",
       "      <td>0</td>\n",
       "      <td>0</td>\n",
       "      <td>1</td>\n",
       "      <td>0</td>\n",
       "      <td>0</td>\n",
       "      <td>0</td>\n",
       "    </tr>\n",
       "  </tbody>\n",
       "</table>\n",
       "</div>"
      ],
      "text/plain": [
       "      gender  SeniorCitizen  Partner  Dependents  tenure  PhoneService  \\\n",
       "3470       1              0        1           1       8             1   \n",
       "354        0              1        0           0      21             0   \n",
       "2331       0              0        1           0      25             1   \n",
       "2926       0              0        1           0      69             1   \n",
       "5400       0              0        0           0      33             1   \n",
       "\n",
       "      PaperlessBilling  MonthlyCharges  TotalCharges  Churn  MultipleLines_No  \\\n",
       "3470                 1            51.3        411.60      0                 1   \n",
       "354                  1            41.9        840.10      1                 0   \n",
       "2331                 1            26.8        733.55      0                 0   \n",
       "2926                 1           116.0       8182.85      0                 0   \n",
       "5400                 1            70.4       2406.10      0                 1   \n",
       "\n",
       "      MultipleLines_No phone service  MultipleLines_Yes  InternetService_DSL  \\\n",
       "3470                               0                  0                    1   \n",
       "354                                1                  0                    1   \n",
       "2331                               0                  1                    0   \n",
       "2926                               0                  1                    0   \n",
       "5400                               0                  0                    0   \n",
       "\n",
       "      InternetService_Fiber optic  InternetService_No  OnlineSecurity_No  \\\n",
       "3470                            0                   0                  0   \n",
       "354                             0                   0                  0   \n",
       "2331                            0                   1                  0   \n",
       "2926                            1                   0                  0   \n",
       "5400                            1                   0                  1   \n",
       "\n",
       "      OnlineSecurity_No internet service  OnlineSecurity_Yes  OnlineBackup_No  \\\n",
       "3470                                   0                   1                1   \n",
       "354                                    0                   1                1   \n",
       "2331                                   1                   0                0   \n",
       "2926                                   0                   1                0   \n",
       "5400                                   0                   0                1   \n",
       "\n",
       "      OnlineBackup_No internet service  OnlineBackup_Yes  DeviceProtection_No  \\\n",
       "3470                                 0                 0                    1   \n",
       "354                                  0                 0                    1   \n",
       "2331                                 1                 0                    0   \n",
       "2926                                 0                 1                    0   \n",
       "5400                                 0                 0                    1   \n",
       "\n",
       "      DeviceProtection_No internet service  DeviceProtection_Yes  \\\n",
       "3470                                     0                     0   \n",
       "354                                      0                     0   \n",
       "2331                                     1                     0   \n",
       "2926                                     0                     1   \n",
       "5400                                     0                     0   \n",
       "\n",
       "      TechSupport_No  TechSupport_No internet service  TechSupport_Yes  \\\n",
       "3470               1                                0                0   \n",
       "354                1                                0                0   \n",
       "2331               0                                1                0   \n",
       "2926               0                                0                1   \n",
       "5400               1                                0                0   \n",
       "\n",
       "      StreamingTV_No  StreamingTV_No internet service  StreamingTV_Yes  \\\n",
       "3470               1                                0                0   \n",
       "354                0                                0                1   \n",
       "2331               0                                1                0   \n",
       "2926               0                                0                1   \n",
       "5400               1                                0                0   \n",
       "\n",
       "      StreamingMovies_No  StreamingMovies_No internet service  \\\n",
       "3470                   1                                    0   \n",
       "354                    1                                    0   \n",
       "2331                   0                                    1   \n",
       "2926                   0                                    0   \n",
       "5400                   1                                    0   \n",
       "\n",
       "      StreamingMovies_Yes  Contract_Month-to-month  Contract_One year  \\\n",
       "3470                    0                        1                  0   \n",
       "354                     0                        1                  0   \n",
       "2331                    0                        0                  1   \n",
       "2926                    1                        0                  0   \n",
       "5400                    0                        1                  0   \n",
       "\n",
       "      Contract_Two year  PaymentMethod_Bank transfer (automatic)  \\\n",
       "3470                  0                                        0   \n",
       "354                   0                                        0   \n",
       "2331                  0                                        0   \n",
       "2926                  1                                        0   \n",
       "5400                  0                                        1   \n",
       "\n",
       "      PaymentMethod_Credit card (automatic)  PaymentMethod_Electronic check  \\\n",
       "3470                                      1                               0   \n",
       "354                                       0                               1   \n",
       "2331                                      0                               0   \n",
       "2926                                      0                               1   \n",
       "5400                                      0                               0   \n",
       "\n",
       "      PaymentMethod_Mailed check  \n",
       "3470                           0  \n",
       "354                            0  \n",
       "2331                           1  \n",
       "2926                           0  \n",
       "5400                           0  "
      ]
     },
     "execution_count": 14,
     "metadata": {},
     "output_type": "execute_result"
    }
   ],
   "source": [
    "#verify above performed one-hot encoding: data\n",
    "dataSet_sample.head()"
   ]
  },
  {
   "cell_type": "markdown",
   "metadata": {},
   "source": [
    "From above output, we can see that all the categorical features have been encoded. At this point, we have all the features in numeric format. \n",
    "\n",
    "We will now check the column names of `dataSet_sample` to confirm if new columns have been created for all the categories."
   ]
  },
  {
   "cell_type": "code",
   "execution_count": 15,
   "metadata": {},
   "outputs": [
    {
     "data": {
      "text/plain": [
       "Index(['gender', 'SeniorCitizen', 'Partner', 'Dependents', 'tenure',\n",
       "       'PhoneService', 'PaperlessBilling', 'MonthlyCharges', 'TotalCharges',\n",
       "       'Churn', 'MultipleLines_No', 'MultipleLines_No phone service',\n",
       "       'MultipleLines_Yes', 'InternetService_DSL',\n",
       "       'InternetService_Fiber optic', 'InternetService_No',\n",
       "       'OnlineSecurity_No', 'OnlineSecurity_No internet service',\n",
       "       'OnlineSecurity_Yes', 'OnlineBackup_No',\n",
       "       'OnlineBackup_No internet service', 'OnlineBackup_Yes',\n",
       "       'DeviceProtection_No', 'DeviceProtection_No internet service',\n",
       "       'DeviceProtection_Yes', 'TechSupport_No',\n",
       "       'TechSupport_No internet service', 'TechSupport_Yes', 'StreamingTV_No',\n",
       "       'StreamingTV_No internet service', 'StreamingTV_Yes',\n",
       "       'StreamingMovies_No', 'StreamingMovies_No internet service',\n",
       "       'StreamingMovies_Yes', 'Contract_Month-to-month', 'Contract_One year',\n",
       "       'Contract_Two year', 'PaymentMethod_Bank transfer (automatic)',\n",
       "       'PaymentMethod_Credit card (automatic)',\n",
       "       'PaymentMethod_Electronic check', 'PaymentMethod_Mailed check'],\n",
       "      dtype='object')"
      ]
     },
     "execution_count": 15,
     "metadata": {},
     "output_type": "execute_result"
    }
   ],
   "source": [
    "#verify above performed one-hot encoding: column names\n",
    "dataSet_sample.columns"
   ]
  },
  {
   "cell_type": "markdown",
   "metadata": {},
   "source": [
    "Looking at above output and also considering the output from section *Checking and Handling Missing Values* which shows unique values along with their counts, columns have been successfully created for categories of all the features."
   ]
  },
  {
   "cell_type": "markdown",
   "metadata": {},
   "source": [
    "## 5.7. Separating Descriptive and Target Features"
   ]
  },
  {
   "cell_type": "markdown",
   "metadata": {},
   "source": [
    "Now that we have prepared the data, before scaling the features, we will separate the descriptive and target features. We will first extract the descriptive features from `dataSet_sample` and store them in `data`."
   ]
  },
  {
   "cell_type": "code",
   "execution_count": 16,
   "metadata": {
    "scrolled": true
   },
   "outputs": [
    {
     "name": "stdout",
     "output_type": "stream",
     "text": [
      "Number of Rows(Instances): 1500\n",
      "Number of Columns(Features): 40\n"
     ]
    }
   ],
   "source": [
    "#Extract descriptive features\n",
    "data = dataSet_sample.drop(columns='Churn')\n",
    "\n",
    "#check dimensions\n",
    "print('Number of Rows(Instances):', data.shape[0])\n",
    "print('Number of Columns(Features):', data.shape[1])"
   ]
  },
  {
   "cell_type": "markdown",
   "metadata": {},
   "source": [
    "From above output, we now have 40 descriptive features with 1500 instances present in `data`. We will use the instances from `data` to create train and test data.\n",
    "\n",
    "We will now extract the target feature from `dataSet_sample` and store it in `target`."
   ]
  },
  {
   "cell_type": "code",
   "execution_count": 17,
   "metadata": {},
   "outputs": [
    {
     "name": "stdout",
     "output_type": "stream",
     "text": [
      "Number of Rows(Instances): 1500\n"
     ]
    }
   ],
   "source": [
    "#Extract target feature\n",
    "target = dataSet_sample.Churn\n",
    "\n",
    "#check dimensions\n",
    "print('Number of Rows(Instances):', target.shape[0])"
   ]
  },
  {
   "cell_type": "markdown",
   "metadata": {},
   "source": [
    "From above output, we now have 1500 instances present in `target`. We will use these instances in `target` to create train data where algorithm will learn what to predict using these instances. We will also create the test data using which we will know how the algorithm is performing.\n",
    "\n",
    "It is important to know that for implementing the classifiers in Python, we will be using `Scikit-Learn` module. This module works best with numeric data of `NumPy` package. Until this step, we have the instances of descriptive and target features in `Pandas` data frame. So, before passing the data into most of the `Scikit-Learn` modules, we need to convert our data into `NumPy` arrays.\n",
    "\n",
    "Now that we have the descriptive and target features separated in `Pandas` data frames `data` and `target` respectively, we will scale all the descriptive features."
   ]
  },
  {
   "cell_type": "markdown",
   "metadata": {},
   "source": [
    "## 5.8. Scaling the Features"
   ]
  },
  {
   "cell_type": "markdown",
   "metadata": {},
   "source": [
    "Scaling is an important step that we need to perform before the data is passed to the models. This is because it is essential to remove the variability created by the range of values for each feature. For instance, the values of `tenure` feature ranges from 1 to 72, values of `MonthlyCharges` feature range from 18 to 118 and values of encoded categorical features range from 0 to 1. This variation in the range can cause the algorithm to perform poorly as value 72 in `tenure` feature should not indicate that it is 72 times of value 1 of `SeniorCitizen` feature.\n",
    "\n",
    "We will perform the scaling using `MinMaxScaler()` function from `sklearn.preprocessing` module of `Scikit-Learn` package. This function implements min-max normalisation where all the values are scaled between 0 and 1. `MinMaxScaler()` function returns a 2 dimensional NumPy array which we will store in the variable named `Data`."
   ]
  },
  {
   "cell_type": "code",
   "execution_count": 18,
   "metadata": {},
   "outputs": [],
   "source": [
    "#import preprocessing from sklearn package\n",
    "from sklearn import preprocessing\n",
    "\n",
    "#perform min-max normalisation\n",
    "Data = preprocessing.MinMaxScaler().fit_transform(data)"
   ]
  },
  {
   "cell_type": "markdown",
   "metadata": {},
   "source": [
    "Now that we have performed the scaling, we will check the datatype and dimensions of `Data`."
   ]
  },
  {
   "cell_type": "code",
   "execution_count": 19,
   "metadata": {},
   "outputs": [
    {
     "data": {
      "text/plain": [
       "numpy.ndarray"
      ]
     },
     "execution_count": 19,
     "metadata": {},
     "output_type": "execute_result"
    }
   ],
   "source": [
    "#check type of Data\n",
    "type(Data)"
   ]
  },
  {
   "cell_type": "code",
   "execution_count": 20,
   "metadata": {},
   "outputs": [
    {
     "data": {
      "text/plain": [
       "(1500, 40)"
      ]
     },
     "execution_count": 20,
     "metadata": {},
     "output_type": "execute_result"
    }
   ],
   "source": [
    "#check shape of Data\n",
    "Data.shape"
   ]
  },
  {
   "cell_type": "markdown",
   "metadata": {},
   "source": [
    "From above outputs, we have the scaled descriptive features present in the 2-dimensional NumPy array `Data` and in the correct required dimension.\n",
    "\n",
    "As mentioned earlier, before modelling, we need to have all the required data in `NumPy` arrays. We already have the instances from descriptive features stored in the `NumPy` array `Data`. We will now store all the instances of target feature into a `NumPy` array `Target`."
   ]
  },
  {
   "cell_type": "code",
   "execution_count": 21,
   "metadata": {},
   "outputs": [
    {
     "data": {
      "text/plain": [
       "numpy.ndarray"
      ]
     },
     "execution_count": 21,
     "metadata": {},
     "output_type": "execute_result"
    }
   ],
   "source": [
    "#import numpy package\n",
    "import numpy as np\n",
    "\n",
    "#Convert target to numpy array\n",
    "Target = np.array(target.values)\n",
    "\n",
    "#check type of target\n",
    "type(Target)"
   ]
  },
  {
   "cell_type": "markdown",
   "metadata": {},
   "source": [
    "From above output, we now have the instances in target feature present in `NumPy` array `target`.\n",
    "\n",
    "As a summary for the Data Pre-processing steps, we have now accomplished below points:\n",
    "1. Original data has been cleaned and is available in the `Pandas` data frame named `dataSet`.\n",
    "2. After extracting the sample of 1500 instances and performing encoding on the descriptive features, we separated the descriptive and target features which are now available in data frame named `data` and the `Pandas` series named `target` respectively.\n",
    "3. After scaling the data in descriptive features, it is now available in the `NumPy` array named `Data`. The final version of `target` data is available in the `NumPy` array named `Target`.\n",
    "4. For data exploration, we will be using the data stored in `dataSet`.\n",
    "5. For predictive modelling, we will be using the data stored in `Data` and `Target`."
   ]
  },
  {
   "cell_type": "markdown",
   "metadata": {},
   "source": [
    "Now, that we have completed the processing of data, we will start exploring the data. Here, we will try to get a better understanding of data. We will also try and explore the relationships between the target feature and various descriptive features."
   ]
  },
  {
   "cell_type": "markdown",
   "metadata": {},
   "source": [
    "***"
   ]
  },
  {
   "cell_type": "markdown",
   "metadata": {},
   "source": [
    "# 6. Data Exploration"
   ]
  },
  {
   "cell_type": "markdown",
   "metadata": {},
   "source": [
    "We will first import the `matplotlib.pyplot` package to create the plots for data exploration."
   ]
  },
  {
   "cell_type": "code",
   "execution_count": 22,
   "metadata": {},
   "outputs": [],
   "source": [
    "#import matplotlib package\n",
    "import matplotlib.pyplot as plt"
   ]
  },
  {
   "cell_type": "markdown",
   "metadata": {},
   "source": [
    "## 6.1. Data Exploration using Univariate Plots"
   ]
  },
  {
   "cell_type": "markdown",
   "metadata": {},
   "source": [
    "We will start the data exploration by checking the frequency distribution of values in our target feature `Churn`."
   ]
  },
  {
   "cell_type": "code",
   "execution_count": 23,
   "metadata": {},
   "outputs": [
    {
     "data": {
      "image/png": "[encoded data removed]",
      "text/plain": [
       "<Figure size 432x288 with 1 Axes>"
      ]
     },
     "metadata": {},
     "output_type": "display_data"
    }
   ],
   "source": [
    "#plot pie chart for target feature\n",
    "Churn = dataSet['Churn'].value_counts().plot(kind = 'pie', autopct = '%.2f')\n",
    "plt.title(\"Figure 1: Frequency Distribution for Target Feature: Churn\")\n",
    "plt.show()"
   ]
  },
  {
   "cell_type": "markdown",
   "metadata": {},
   "source": [
    "As seen in above pie chart, there is a imbalance in the frequencies. We have 73.42% of instances where `Churn` is `No`. We have just 26.58% of instances where `Churn` is `Yes`. As per our problem statement, we are trying to identify the churners, so the positive class for data analysis is `Yes`.\n",
    "\n",
    "Now, looking at the telecommunication business from a high-level perspective, parameters which might be useful in determining if the customer is churner can be services used by the customer and the type of contract(e.g., short term or long term).  In our data, we have 3 features which represent the above 2 parameters. `PhoneService` and `InternetService` features tell us the service used by the customer. `Contract` feature tells us the length of contract for which the customer has subscribed.\n",
    "\n",
    "We will now check the frequency distribution for above 3 features, starting with the `PhoneService`."
   ]
  },
  {
   "cell_type": "code",
   "execution_count": 24,
   "metadata": {},
   "outputs": [
    {
     "data": {
      "image/png": "[encoded data removed]",
      "text/plain": [
       "<Figure size 432x288 with 1 Axes>"
      ]
     },
     "metadata": {},
     "output_type": "display_data"
    }
   ],
   "source": [
    "#plot pie chart for descriptive feature PhoneService\n",
    "Phone_Service = dataSet['PhoneService'].value_counts().plot(kind = 'pie', autopct = '%.2f')\n",
    "plt.title(\"Figure 2: Frequency Distribution for Descriptive Feature: Phone Service\")\n",
    "plt.show()"
   ]
  },
  {
   "cell_type": "markdown",
   "metadata": {},
   "source": [
    "Looking at above pie chart, majority of the customers in our data have subscribed for the Phone Service. Just 9.67% of the customers have not subscribed for this service.\n",
    "\n",
    "We will now check the frequency distribution of values in the `InternetService` feature."
   ]
  },
  {
   "cell_type": "code",
   "execution_count": 25,
   "metadata": {},
   "outputs": [
    {
     "data": {
      "image/png": "[encoded data removed]",
      "text/plain": [
       "<Figure size 432x288 with 1 Axes>"
      ]
     },
     "metadata": {},
     "output_type": "display_data"
    }
   ],
   "source": [
    "#plot pie chart for descriptive feature InternetService\n",
    "InternetService = dataSet['InternetService'].value_counts().plot(kind = 'pie', autopct = '%.2f')\n",
    "plt.title(\"Figure 3: Frequency Distribution for Descriptive Feature: Internet Service\\n\")\n",
    "plt.show()"
   ]
  },
  {
   "cell_type": "markdown",
   "metadata": {},
   "source": [
    "As seen in above pie chart, 21.62% of the customers have not subscribed for the Internet Service. Out of remaining customers, 44.03% have subscribed for Fibre Optic Internet Service and 34.36% customers have subscribed for the DSL Internet Service. Majority of the customers have subscribed for the Fibre Optic Internet Service.\n",
    "\n",
    "We will now check the frequency distribution of values in the `Contract` feature."
   ]
  },
  {
   "cell_type": "code",
   "execution_count": 26,
   "metadata": {},
   "outputs": [
    {
     "data": {
      "image/png": "[encoded data removed]",
      "text/plain": [
       "<Figure size 432x288 with 1 Axes>"
      ]
     },
     "metadata": {},
     "output_type": "display_data"
    }
   ],
   "source": [
    "#plot pie chart for descriptive feature Contract\n",
    "Contract = dataSet['Contract'].value_counts().plot(kind = 'pie', autopct = '%.2f')\n",
    "plt.title(\"Figure 4: Frequency Distribution for Descriptive Feature: Contract\")\n",
    "plt.show()"
   ]
  },
  {
   "cell_type": "markdown",
   "metadata": {},
   "source": [
    "As seen in above pie chart, majority of the customers have subscribed for a month-to-month contract. 20.93% of the customers have opted for one-year contract and 23.96% of the customers have opted for two-year contract.\n",
    "\n",
    "All the above plots are considered as univariate plots because each plot describes just 1 variable(feature). Now that we have got an idea about the preferences of the customers, we will try to find the relationship between the target feature `Churn` and descriptive features `PhoneService`, `InternetService` and `Contract`. For this purpose, we will use bivariate plots, which means, each plot would involve 2 variables(features)."
   ]
  },
  {
   "cell_type": "markdown",
   "metadata": {},
   "source": [
    "## 6.2. Data Exploration using Bivariate Plots"
   ]
  },
  {
   "cell_type": "markdown",
   "metadata": {},
   "source": [
    "We will start by exploring the Churn distribution for customers who have subscribed for the Phone Service and the customers who have not."
   ]
  },
  {
   "cell_type": "code",
   "execution_count": 27,
   "metadata": {},
   "outputs": [
    {
     "data": {
      "image/png": "[encoded data removed]",
      "text/plain": [
       "<Figure size 432x288 with 1 Axes>"
      ]
     },
     "metadata": {
      "needs_background": "light"
     },
     "output_type": "display_data"
    }
   ],
   "source": [
    "#plot bar chart for Phone Service wise Churn distribution\n",
    "Phone_Service_vs_churn = dataSet.groupby(['PhoneService','Churn'])\n",
    "Phone_Service_vs_churn_size = Phone_Service_vs_churn.size()\n",
    "Phone_Service_vs_churn_size.unstack().plot.bar(stacked = False)\n",
    "plt.xlabel('\\n Phone Service')\n",
    "plt.ylabel('Count \\n')\n",
    "plt.xticks(rotation = 360)\n",
    "plt.title('Figure 5: Phone Service versus Churn Distribution\\n')\n",
    "plt.show()"
   ]
  },
  {
   "cell_type": "markdown",
   "metadata": {},
   "source": [
    "Looking at above plot, the ratio of churners versus non-churners is nearly same in both cases, the difference is just in the counts; we have much more values where Phone Service is Yes. From this plot, we cannot make any statement on the relationship between `PhoneService` and `Churn`.\n",
    "\n",
    "We will now explore the relationship between `InternetService` and `Churn`."
   ]
  },
  {
   "cell_type": "code",
   "execution_count": 28,
   "metadata": {},
   "outputs": [
    {
     "data": {
      "image/png": "[encoded data removed]",
      "text/plain": [
       "<Figure size 432x288 with 1 Axes>"
      ]
     },
     "metadata": {
      "needs_background": "light"
     },
     "output_type": "display_data"
    }
   ],
   "source": [
    "#plot bar chart for InternetService wise churn distribution\n",
    "InternetService_vs_churn = dataSet.groupby(['InternetService','Churn'])\n",
    "InternetService_vs_churn_size = InternetService_vs_churn.size()\n",
    "InternetService_vs_churn_size.unstack().plot.bar(stacked = False)\n",
    "plt.xlabel('\\n Internet Service')\n",
    "plt.ylabel('Count\\n')\n",
    "plt.xticks(rotation = 360)\n",
    "plt.title('Figure 6: Internet Service versus Churn Distribution\\n')\n",
    "plt.show()"
   ]
  },
  {
   "cell_type": "markdown",
   "metadata": {},
   "source": [
    "From above plot, for Fibre Optic, the churn count of Yes relative to No is highest. For DSL, the churn count of Yes is relatively low and that for No Internet Service, the churn count of Yes is least. From this observation, as the churn rate is highest for the Fibre Optic Internet Service, we can say that the customers are not happy with this service. This insight can be valuable for the telecommunication business to improve their performance. Later, we will dig in more to find out if any there is any specific Internet Service which is resulting in high count of churners.\n",
    "\n",
    "We will now explore the relationship between `Contract` and `Churn`."
   ]
  },
  {
   "cell_type": "code",
   "execution_count": 29,
   "metadata": {},
   "outputs": [
    {
     "data": {
      "image/png": "[encoded data removed]",
      "text/plain": [
       "<Figure size 432x288 with 1 Axes>"
      ]
     },
     "metadata": {
      "needs_background": "light"
     },
     "output_type": "display_data"
    }
   ],
   "source": [
    "#plot bar chart for Contract type wise churn distribution\n",
    "Contract_vs_churn = dataSet.groupby(['Contract','Churn'])\n",
    "Contract_vs_churn_size = Contract_vs_churn.size()\n",
    "Contract_vs_churn_size.unstack().plot.bar(stacked = False)\n",
    "plt.xlabel('\\n Contract')\n",
    "plt.ylabel('Count \\n')\n",
    "plt.xticks(rotation = 360)\n",
    "plt.title('Figure 7: Contract Type versus Churn Distribution\\n')\n",
    "plt.show()"
   ]
  },
  {
   "cell_type": "markdown",
   "metadata": {},
   "source": [
    "As we can see in above output, the churn count of Yes relative to No is highest in case of month-to-month contract. It is relatively low for one-year contract and least for two-year contract. This means, customers who have opted for long term subscriptions are less likely to churn. This insight clearly tells the business that if they can make the customer stick to their service for over 1 year, the customers are less likely to opt out and search for other service provider.\n",
    "\n",
    "Now, we will use the above graphs and plot them again by introducing third variable(feature). Such plots are called trivariate. We will use these to perform a more comprehensive exploration on above explored cases."
   ]
  },
  {
   "cell_type": "markdown",
   "metadata": {},
   "source": [
    "## 6.3. Data Exploration using Trivariate Plots"
   ]
  },
  {
   "cell_type": "markdown",
   "metadata": {},
   "source": [
    "We earlier observed that the count of Churn was high amongst the customers using Fibre Optic Internet Service. We will now check if this high count is specific to a particular type of Internet Service. So, here using our first variable `InternetService`, we will extract all the instances where `InternetService` is `FiberOptic`. Next, we will plot 6 subplots, one for each type of Internet Service(our 2nd variable), against the `Churn`(our third variable)."
   ]
  },
  {
   "cell_type": "code",
   "execution_count": 30,
   "metadata": {
    "scrolled": false
   },
   "outputs": [
    {
     "data": {
      "image/png": "[encoded data removed]",
      "text/plain": [
       "<Figure size 2160x1080 with 6 Axes>"
      ]
     },
     "metadata": {
      "needs_background": "light"
     },
     "output_type": "display_data"
    }
   ],
   "source": [
    "#extract instances where InternetService is Fiber optic\n",
    "data_explr_fibre = dataSet[dataSet['InternetService'] == 'Fiber optic']\n",
    "\n",
    "#define the subplot grid\n",
    "fig = plt.figure(figsize = (30, 15))\n",
    "plt.subplots_adjust(left = None, bottom = None, right = None, top = None, wspace = 0.75, hspace = 0.75)\n",
    "plt.rcParams.update({'font.size': 16})\n",
    "\n",
    "#plot 1st subplot\n",
    "ax = plt.subplot(2,3,1)\n",
    "data_explr_fibre.groupby(['OnlineSecurity','Churn']).size().unstack().plot.bar(align = 'center', stacked = False, ax = ax)\n",
    "ax.set_title('Figure 8.1:\\n OnlineSecurity versus Churn\\n')\n",
    "plt.xlabel('\\nOnlineSecurity')\n",
    "plt.ylabel('Count')\n",
    "plt.xticks(rotation = 360)\n",
    "\n",
    "#plot 2nd subplot\n",
    "ax = plt.subplot(2,3,2)\n",
    "data_explr_fibre.groupby(['OnlineBackup','Churn']).size().unstack().plot.bar(align = 'center', stacked = False, ax = ax)\n",
    "plt.title(\"Figure 8.2:\\n OnlineBackup versus Churn\\n\")\n",
    "plt.xlabel('\\nOnlineBackup')\n",
    "plt.ylabel('Count\\n')\n",
    "plt.xticks(rotation = 360)\n",
    "\n",
    "#plot 3rd subplot\n",
    "ax = plt.subplot(2,3,3)\n",
    "data_explr_fibre.groupby(['DeviceProtection','Churn']).size().unstack().plot.bar(align = 'center', stacked = False, ax = ax)\n",
    "plt.title(\" Figure 8.3:\\n DeviceProtection versus Churn\\n\")\n",
    "plt.xlabel('\\nDeviceProtection')\n",
    "plt.ylabel('Count\\n')\n",
    "plt.xticks(rotation = 360)\n",
    "\n",
    "#plot 4th subplot\n",
    "ax = plt.subplot(2,3,4)\n",
    "data_explr_fibre.groupby(['TechSupport','Churn']).size().unstack().plot.bar(align = 'center', stacked = False, ax = ax)\n",
    "title = plt.title(\"Figure 8.4:\\n TechSupport versus Churn\\n\")\n",
    "plt.xlabel('\\nTechSupport')\n",
    "plt.ylabel('Count')\n",
    "plt.xticks(rotation = 360)\n",
    "\n",
    "#plot 5th subplot\n",
    "ax = plt.subplot(2,3,5)\n",
    "data_explr_fibre.groupby(['StreamingTV','Churn']).size().unstack().plot.bar(align = 'center', stacked = False, ax = ax)\n",
    "plt.title(\" Figure 8.5:\\n StreamingTV versus Churn\\n\")\n",
    "plt.xlabel('\\nStreamingTV')\n",
    "plt.ylabel('Count')\n",
    "plt.xticks(rotation=360)\n",
    "\n",
    "#plot 6th subplot\n",
    "ax = plt.subplot(2,3,6)\n",
    "data_explr_fibre.groupby(['StreamingMovies','Churn']).size().unstack().plot.bar(align = 'center', stacked = False, ax = ax)\n",
    "plt.title(\"Figure 8.6:\\n StreamingMovies versus Churn\\n\")\n",
    "plt.xlabel('\\nStreamingMovies')\n",
    "plt.ylabel('Count')\n",
    "plt.xticks(rotation = 360)\n",
    "\n",
    "#display entire plot\n",
    "plt.show()"
   ]
  },
  {
   "cell_type": "markdown",
   "metadata": {},
   "source": [
    "In the above plot, we can see that for `Online Security`, `Online Backup`, `Device Protection` and `Tech Support` services, the churn count of Yes relative to No is high for cases where customers are not using these services. Similarly, even for `Streaming TV` and `Streaming Movies` services, the churn count of Yes is quite high relative to No for cases where customers are not using the service. To look at this from another perspective, for all the 6 services, the churn count is relatively low for cases where customers use that service.\n",
    "\n",
    "The inference that we can derive from above observations is that the quality of most of these services is quite good, because, for customers who use the service, they are less likely to opt-out. From the business perspective, it would make sense to focus on how maximum number of customers can experience these services. The solution might include offering free trials of these services to the customers.\n",
    "\n",
    "We will now perform a comprehensive analysis on results which we had obtained earlier by plotting `Contract` against `Churn`. We had observed that the count of churns was highest for month-to-month contracts. We will try and find out why is this count high for month-to-month contracts. For this, we will create 2 plots by using the  instances where `Contract`(first variable) is `month-to-month`, i.e.., we will consider the customers who have opted for month-to-month contract. Using first plot, we will analyse the churn counts(second variable) and preference of customers using Multiple Lines(third variable) of the Phone service. In the second plot, we will analyse the churn counts(second variable) and preference of customers using various types of Internet Services(third variable)."
   ]
  },
  {
   "cell_type": "code",
   "execution_count": 31,
   "metadata": {},
   "outputs": [],
   "source": [
    "#extract instances where Contract is month-to-month\n",
    "data_explr_contract = dataSet[dataSet['Contract'] == 'Month-to-month']"
   ]
  },
  {
   "cell_type": "code",
   "execution_count": 32,
   "metadata": {},
   "outputs": [
    {
     "data": {
      "image/png": "[encoded data removed]",
      "text/plain": [
       "<Figure size 432x288 with 1 Axes>"
      ]
     },
     "metadata": {
      "needs_background": "light"
     },
     "output_type": "display_data"
    }
   ],
   "source": [
    "#plot multipleLines v/s Churn\n",
    "data_explr_contract.groupby(['MultipleLines','Churn']).size().unstack().plot.bar(align = 'center', stacked = False )\n",
    "plt.title('Figure 9: MultipleLines versus Churn for Month-to-Month Contracts\\n')\n",
    "plt.rcParams.update({'font.size': 8})\n",
    "plt.xlabel('\\n MultipleLines\\n')\n",
    "plt.ylabel('Count\\n')\n",
    "plt.xticks(np.arange(3), ['No', 'No \\n phone \\n service', 'Yes'],rotation = 'horizontal')\n",
    "\n",
    "#display the plot\n",
    "plt.show()"
   ]
  },
  {
   "cell_type": "markdown",
   "metadata": {},
   "source": [
    "As seen in above bar chart, the churn count of Yes relative to No is highest for the case where MultipleLines is Yes. The churn count of Yes relative to No is lowest for the case where MultipleLines is No. This means, for customers who have opted for month-to-month contracts, the churn count is high when customers have subscribed for the Multiple Lines Phone Service. The churn count is lowest where customers have not subscribed for the Multiple Lines Phone Service.\n",
    "\n",
    "From these observations, we can infer that the Multiple Lines Phone service is not performing well and is causing the customers to opt-out and look for better options.\n",
    "\n",
    "We will now analyse the churn counts and preference of customers using various types of Internet Services."
   ]
  },
  {
   "cell_type": "code",
   "execution_count": 33,
   "metadata": {},
   "outputs": [
    {
     "data": {
      "image/png": "[encoded data removed]",
      "text/plain": [
       "<Figure size 2160x1080 with 6 Axes>"
      ]
     },
     "metadata": {
      "needs_background": "light"
     },
     "output_type": "display_data"
    }
   ],
   "source": [
    "#define the sub-plot grid\n",
    "fig = plt.figure(figsize = (30, 15))\n",
    "plt.subplots_adjust(left = None, bottom = None, right = None, top = None, wspace = 0.75, hspace = 0.70)\n",
    "plt.rcParams.update({'font.size': 16})\n",
    "\n",
    "#plot 1st subplot\n",
    "ax = plt.subplot(2, 3, 1)\n",
    "data_explr_contract.groupby(['OnlineSecurity','Churn']).size().unstack().plot.bar(align = 'center', stacked = False, ax = ax)\n",
    "ax.set_title('Figure 10.1:\\n OnlineSecurity versus Churn for Month-to-Month Contracts\\n')\n",
    "plt.xlabel('\\nOnlineSecurity\\n')\n",
    "plt.ylabel('Counts\\n')\n",
    "plt.xticks(np.arange(3), ['No', 'No \\n internet \\n service', 'Yes'], rotation = 360)\n",
    "\n",
    "#plot 2nd subplot\n",
    "ax = plt.subplot(2, 3, 2)\n",
    "data_explr_contract.groupby(['OnlineBackup','Churn']).size().unstack().plot.bar(align = 'center', stacked = False, ax = ax)\n",
    "plt.title(\"Figure 10.2:\\n Online Backup versus Churn for Month-to-Month Contracts\\n\")\n",
    "plt.xlabel('\\nOnlineBackup\\n')\n",
    "plt.ylabel('Counts\\n')\n",
    "plt.xticks(np.arange(3), ['No', 'No \\n internet \\n service', 'Yes'], rotation = 360)\n",
    "\n",
    "#plot 3rd subplot\n",
    "ax = plt.subplot(2, 3, 3)\n",
    "data_explr_contract.groupby(['DeviceProtection','Churn']).size().unstack().plot.bar(align = 'center', stacked = False, ax = ax)\n",
    "plt.title(\" Figure 10.3:\\n DeviceProtection versus Churn for Month-to-Month Contracts\\n\")\n",
    "plt.xlabel('\\nDeviceProtection\\n')\n",
    "plt.ylabel('Counts\\n')\n",
    "plt.xticks(np.arange(3), ['No', 'No \\n internet \\n service', 'Yes'], rotation = 360)\n",
    "\n",
    "#plot 4th subplot\n",
    "ax = plt.subplot(2, 3, 4)\n",
    "data_explr_contract.groupby(['TechSupport','Churn']).size().unstack().plot.bar(align = 'center', stacked = False, ax = ax)\n",
    "plt.title(\"Figure 10.4:\\n TechSupport versus Churn for Month-to-Month Contracts\\n\")\n",
    "plt.xlabel('\\nTechSupport\\n')\n",
    "plt.ylabel('Counts\\n')\n",
    "plt.xticks(np.arange(3), ['No', 'No \\n internet \\n service', 'Yes'], rotation = 360)\n",
    "\n",
    "#plot 5th subplot\n",
    "ax = plt.subplot(2, 3, 5)\n",
    "data_explr_contract.groupby(['StreamingTV','Churn']).size().unstack().plot.bar(align = 'center', stacked = False, ax = ax)\n",
    "plt.title(\" Figure 10.5:\\n StreamingTV versus Churn for Month-to-Month Contracts\\n\")\n",
    "plt.xlabel('\\nStreamingTV\\n')\n",
    "plt.ylabel('Counts\\n')\n",
    "plt.xticks(np.arange(3), ['No', 'No \\n internet \\n service', 'Yes'], rotation = 360)\n",
    "\n",
    "#plot 6th subplot\n",
    "ax = plt.subplot(2, 3, 6)\n",
    "data_explr_contract.groupby(['StreamingMovies','Churn']).size().unstack().plot.bar(align = 'center', stacked = False, ax = ax)\n",
    "plt.title(\"Figure 10.6:\\n StreamingMovies versus Churn for Month-to-Month Contracts\\n\")\n",
    "plt.xlabel('\\nStreamingMovies\\n')\n",
    "plt.ylabel('Counts\\n')\n",
    "plt.xticks(np.arange(3), ['No', 'No \\n internet \\n service', 'Yes'], rotation = 360)\n",
    "plt.show()"
   ]
  },
  {
   "cell_type": "markdown",
   "metadata": {},
   "source": [
    "The above plot has been created by using the customers who have opted for month-to-month contract. For all the above services, except for the cases where customer does not have the Internet Service, churn count of Yes is nearly equal to churn count of No. For `OnlineSecurity`  and `TechSupport`, for the case where customer uses that service, the churn count of Yes is relatively lower than churn count of No. But the total count being low for this case, we cannot use it to make a strong comment.\n",
    "\n",
    "So, from the above plot, we are not able to find a strong reason that will explain why the customer is more likely to be a churner if he/she has opted for month-to-month contract.\n",
    "\n",
    "Now, we will explore 1 last relationship. We will first check if the customer is a senior citizen. Then we will check for both senior and non-senior citizen if there is a relation between payment method and churn. This might help us identify if the senior citizens are not comfortable with certain payment methods and because of that reason they might churn and look for other service providers. We will use a trivariate plot to analyse this relationship. `SeniorCitizen` would be our 1st variable, `PaymentMethod` would be our 2nd variable and `Churn` will be our third variable."
   ]
  },
  {
   "cell_type": "code",
   "execution_count": 34,
   "metadata": {},
   "outputs": [],
   "source": [
    "#extract instances for Senior and non-senior citizens\n",
    "data_explr_sc_yes = dataSet[dataSet['SeniorCitizen'] == 1]\n",
    "data_explr_sc_no = dataSet[dataSet['SeniorCitizen'] == 0]"
   ]
  },
  {
   "cell_type": "code",
   "execution_count": 35,
   "metadata": {},
   "outputs": [
    {
     "data": {
      "image/png": "[encoded data removed]",
      "text/plain": [
       "<Figure size 2160x2160 with 2 Axes>"
      ]
     },
     "metadata": {
      "needs_background": "light"
     },
     "output_type": "display_data"
    }
   ],
   "source": [
    "#define the subplot grid\n",
    "fig = plt.figure(figsize = (30, 30))\n",
    "plt.rcParams.update({'font.size': 22})\n",
    "plt.subplots_adjust(left = None, bottom = None, right = None, top = None, wspace = 0.50, hspace = 0.75)\n",
    "\n",
    "#plot 1st subplot\n",
    "ax = plt.subplot(2, 2, 1)\n",
    "data_explr_sc_yes.groupby(['PaymentMethod', 'Churn']).size().unstack().plot.bar(align = 'center', stacked = False, ax = ax)\n",
    "ax.set_title('Figure 11.1:\\n PaymentMethod versus Churn for Senior Citizens\\n')\n",
    "plt.xlabel('\\nPayment Method\\n')\n",
    "plt.ylabel('Counts\\n')\n",
    "plt.xticks(np.arange(4), ['Bank transfer\\n (automatic)', 'Credit card\\n (automatic)', 'Electronic\\n check', 'Mailed check'],\n",
    "           rotation = 360)\n",
    "\n",
    "#plot 2nd subplot\n",
    "ax = plt.subplot(2,2,2)\n",
    "data_explr_sc_no.groupby(['PaymentMethod', 'Churn']).size().unstack().plot.bar(align = 'center', stacked = False, ax = ax)\n",
    "plt.title(\"Figure 11.2:\\n PaymentMethod versus Churn for Non Senior Citizens\\n\")\n",
    "plt.xlabel('\\nPayment Method\\n')\n",
    "plt.ylabel('Counts\\n')\n",
    "plt.xticks(np.arange(4), ['Bank transfer\\n (automatic)', 'Credit card\\n (automatic)', 'Electronic\\n check', 'Mailed check'],\n",
    "           rotation = 360)\n",
    "\n",
    "#display the plot\n",
    "plt.show()"
   ]
  },
  {
   "cell_type": "markdown",
   "metadata": {},
   "source": [
    "From the bar plot for Senior Citizens, for Electronic Check, the count of churn values of Yes is relatively higher than churn values of No. Also, for Mailed Check, the count of churn values for Yes is relatively high if not higher than the churn values for No. We can see that maximum number of senior citizens prefer Electronic Check payment method. From this observation, we can infer that, the business can reduce this churn rate by encouraging other payment methods like Bank Transfer and Credit Card which are automatic and gradually start eliminating the payment methods which are causing high churn rate.. Even the plot shows that for automatic payment methods, churn rate is low.\n",
    "\n",
    "The plot for non-senior citizens tells the same story. The churn rate is highest for Electronic check payment method. It is very low for automatic payment methods. It seems that customer prefer the automatic payment method as they do not have to care about explicitly paying the bills on regular basis.\n",
    "\n",
    "Now that we have completed the exploratory analysis, we will proceed towards predictive modelling."
   ]
  },
  {
   "cell_type": "markdown",
   "metadata": {},
   "source": [
    "***"
   ]
  },
  {
   "cell_type": "markdown",
   "metadata": {},
   "source": [
    "# 7. Predictive Modelling"
   ]
  },
  {
   "cell_type": "markdown",
   "metadata": {},
   "source": [
    "In this section, we will implement 4 supervised machine learning algorithms, viz., k-Nearest Neighbours, Decision Tree, Random Forests and Naive Bayes.\n",
    "\n",
    "We will start by splitting the data into train and test data sets. Using the train data, we will define the feature selection methodology and the model evaluation strategy. Then we will perform the hyper-parameter tuning. This step will give us the optimal value of hyper parameter(s) for each algorithm. It will also give us the best features along with how many of these features should be used for the model.\n",
    "\n",
    "Using these features and hyper-parameter values along with the training data, we will fit the model. Then, using the testing data we will fit the model again and evaluate the performance for each model. We will first evaluate the performance using the **AUC score**. Then, we will evaluate the performance using other performance metrics, viz., **confusion matrix**, **precision**, **recall** and **f1-score**.\n",
    "\n",
    "Finally, we will choose the best model for our problem statement and explain the limitations.\n",
    "\n",
    "We will start by setting up the stage for predictive modelling. Here we will import all the required packages from the `Scikit-Learn` module. As we will be creating some plots to tune the hyper-parameters and analyse the performance of models, we will also import required packages from `Altair`."
   ]
  },
  {
   "cell_type": "code",
   "execution_count": 36,
   "metadata": {},
   "outputs": [],
   "source": [
    "from sklearn.model_selection import train_test_split\n",
    "from sklearn.model_selection import RepeatedStratifiedKFold, cross_val_score\n",
    "from sklearn.model_selection import GridSearchCV, RandomizedSearchCV\n",
    "from sklearn.base import BaseEstimator, TransformerMixin\n",
    "\n",
    "from sklearn.pipeline import Pipeline\n",
    "\n",
    "from sklearn import preprocessing, metrics\n",
    "from scipy import stats\n",
    "\n",
    "from sklearn.neighbors import KNeighborsClassifier\n",
    "from sklearn.tree import DecisionTreeClassifier\n",
    "from sklearn.ensemble import RandomForestClassifier\n",
    "from sklearn.naive_bayes import GaussianNB"
   ]
  },
  {
   "cell_type": "code",
   "execution_count": 37,
   "metadata": {},
   "outputs": [],
   "source": [
    "%%capture\n",
    "!pip install --upgrade altair\n",
    "!pip install vega vega_datasets\n",
    "\n",
    "import altair as alt\n",
    "alt.renderers.enable('html')"
   ]
  },
  {
   "cell_type": "markdown",
   "metadata": {},
   "source": [
    "## 7.1. Split Train and Test Data"
   ]
  },
  {
   "cell_type": "markdown",
   "metadata": {},
   "source": [
    "Here, we will use the sample of 1500 instances which is available in `Data` and `Target`. We will split the data in ratio of 70:30, i.e., we will use 70% of 1500 instances to train the model and 30% of the instances to test the model. For splitting the data, we will use the `train_test_split()` function from `sklearn.model_selection` module from Scikit-Learn package. \n",
    "\n",
    "As we had seen in the data exploration, in the target feature, 73.42% of values were No(Negative class) and 26.58% values were Yes(Positive class). While splitting the data, it is important to maintain this ratio in values of the target feature. To maintain this ratio in split data, we will set the `stratify` option of function `train_test_split()` as `Target`."
   ]
  },
  {
   "cell_type": "code",
   "execution_count": 38,
   "metadata": {},
   "outputs": [],
   "source": [
    "#split train and test data in ratio of 70:30\n",
    "train_data, test_data, train_target, test_target = train_test_split(Data, \n",
    "                                                                    Target, \n",
    "                                                                    test_size = 0.3, \n",
    "                                                                    stratify = target, \n",
    "                                                                    random_state = 111)"
   ]
  },
  {
   "cell_type": "markdown",
   "metadata": {},
   "source": [
    "We now have the split data available in variables `train_data`, `test_data`, `train_target` and `test_target`. To confirm if the data has been split correctly, we will check the dimensions of the split data."
   ]
  },
  {
   "cell_type": "code",
   "execution_count": 39,
   "metadata": {},
   "outputs": [
    {
     "name": "stdout",
     "output_type": "stream",
     "text": [
      "For Train Data:\n",
      "Rows: 1050 , Columns: 40\n",
      "\n",
      "For Train Target:\n",
      "Rows: 1050\n",
      "\n",
      "For Test Data:\n",
      "Rows: 450 , Columns: 40\n",
      "\n",
      "For Test Target:\n",
      "Rows: 450\n"
     ]
    }
   ],
   "source": [
    "#verify dimension of above splits\n",
    "print('For Train Data:')\n",
    "print('Rows:', train_data.shape[0], ', Columns:', train_data.shape[1])\n",
    "\n",
    "print('\\nFor Train Target:')\n",
    "print('Rows:', train_target.shape[0])\n",
    "\n",
    "print('\\nFor Test Data:')\n",
    "print('Rows:', test_data.shape[0], ', Columns:', test_data.shape[1])\n",
    "\n",
    "print('\\nFor Test Target:')\n",
    "print('Rows:', test_target.shape[0])"
   ]
  },
  {
   "cell_type": "markdown",
   "metadata": {},
   "source": [
    "From above output, we can confirm that the data been split as required.\n",
    "\n",
    "Now, we will define the feature selection strategy."
   ]
  },
  {
   "cell_type": "markdown",
   "metadata": {},
   "source": [
    "## 7.2. Feature Selection"
   ]
  },
  {
   "cell_type": "markdown",
   "metadata": {},
   "source": [
    "Feature selection is the process of identifying best features from the data for predictive modelling. This is done by ranking the features based on their importances and selecting optimal number of top ranked features. This can be done using multiple methods. Few of them are as below:\n",
    "1. **F-score**: This method is based on statistical F-score of features. This method ranks the features based on their relationship with the target feature.\n",
    "2. **Mutual Information**: This method is based on entropies of features. This method also uses the relationship of features with the target feature\n",
    "3. **Random Forest Importance**: This is ensemble-based method. This method works as a voting system where multiple decision trees are implemented. The result from all the decision tress is recorded and one with the highest vote is selected. \n",
    "\n",
    "For our analysis, we will perform the feature selection using Random Forest Importance(RFI) method. This is because, as this method is based on voting of results from multiple decision trees, it is likely to provide more accurate rankings.\n",
    "\n",
    "We will now define a class named `FeatureSelector` which we will be using for feature selection. We need this class because we will be using pipeline to tune and train the models. Pipeline is a functionality provided by `Scikit-Learn` module which is used to find the optimal number of features and also the hyper-parameter values. This code for `FeatureSelector` class has been referred from **SK Part 2: Feature Selection and Ranking** tutorial available [here](https://www.featureranking.com/tutorials/machine-learning-tutorials/sk-part-2-feature-selection-and-ranking/). \n",
    "\n",
    "The definition of `FeatureSelector` class is as follows:"
   ]
  },
  {
   "cell_type": "code",
   "execution_count": 40,
   "metadata": {},
   "outputs": [],
   "source": [
    "#custom function for  feature selection inside a pipeline\n",
    "# here we use n_estimators=100\n",
    "class FeatureSelector(BaseEstimator, TransformerMixin):\n",
    "    def __init__(self, n_features_ = 5):\n",
    "        self.n_features_ = n_features_\n",
    "        self.fs_indices_ = None\n",
    "\n",
    "    # override the fit function\n",
    "    def fit(self, X, y):\n",
    "        from numpy import argsort\n",
    "        model_rfi = RandomForestClassifier(n_estimators = 100)\n",
    "        model_rfi.fit(X, y)\n",
    "        self.fs_indices_ = argsort(model_rfi.feature_importances_)[::-1][0:self.n_features_] \n",
    "        return self \n",
    "    \n",
    "    # override the transform function\n",
    "    def transform(self, X, y = None):\n",
    "        return X[:, self.fs_indices_]"
   ]
  },
  {
   "cell_type": "markdown",
   "metadata": {},
   "source": [
    "Now that we have defined the feature selection methodology, we will define the model evaluation strategy where we will be using cross validation."
   ]
  },
  {
   "cell_type": "markdown",
   "metadata": {},
   "source": [
    "## 7.3. Cross Validation Method"
   ]
  },
  {
   "cell_type": "markdown",
   "metadata": {},
   "source": [
    "Cross Validation is a model evaluation strategy where the training data is split in k equal folds(partitions). Then, k iterations are performed. In every iteration, 1-fold is used as testing set and all other folds are used as the training set. If required, this entire process can be repeated multiple times. The idea here is to capture all the variability in the data. \n",
    "\n",
    "For our analysis, we will use `RepeatedStratifiedKFold()` function from `sklearn.model_selection` module of `Scikit-Learn` package. We will use the 5-fold cross validation with 3 repetitions. We are using stratified version of the cross validation because it is important to maintain the ratio of positive and negative class in the target feature for every iteration."
   ]
  },
  {
   "cell_type": "code",
   "execution_count": 41,
   "metadata": {},
   "outputs": [],
   "source": [
    "#define cross validation method\n",
    "cv_method = RepeatedStratifiedKFold(n_splits = 5,\n",
    "                                    n_repeats = 3, \n",
    "                                    random_state = 111)"
   ]
  },
  {
   "cell_type": "markdown",
   "metadata": {},
   "source": [
    "The defined model evaluation strategy for our analysis is now available in `cv_method`. We will be using this `cv_method` later to implement above discussed strategy for evaluating all the 4 models which we will be fitting.\n",
    "\n",
    "We will now start with tuning the Hyper-Parameters and come up with the hyper-parameter values and optimal features."
   ]
  },
  {
   "cell_type": "markdown",
   "metadata": {},
   "source": [
    "## 7.4. Hyper Parameter Tuning"
   ]
  },
  {
   "cell_type": "markdown",
   "metadata": {},
   "source": [
    "Here, we will find the optimal number of features and the optimal hyper-parameter values for all the 4 models. For this, we will use the `FeatureSelector` class to implement the feature selection methodology. We will use the model evaluation strategy defined in `cv_method`. The performance metric which we will use to tune the hyper-parameters is `roc_auc`.\n",
    "\n",
    "To implement the search for optimal number of features and the hyper-parameter values in Python, we will use `pipeline`, which is a functionality provided by `Scikit-Learn` module. For all the models, `pipeline` allows us to specify the value for number of features and the value of all the hyper-parameters for that model. In Python, we specify these values using dictionaries. After defining the pipeline and the values, we train and evaluate the model using the train data. After evaluating the model, optimal values are decided based on the performance of model for all the combinations of hyper-parameter values and number of features.\n",
    "\n",
    "We will define a function `get_results()` which will consolidate the performance score for all the implemented combinations of hyper-parameter values and number of features. The code for this function has been referred from **SK Part 2: Feature Selection and Ranking** tutorials available [here](https://www.featureranking.com/tutorials/machine-learning-tutorials/sk-part-2-feature-selection-and-ranking/).\n",
    "\n",
    "The function definition for `get_results()` is given as below:"
   ]
  },
  {
   "cell_type": "code",
   "execution_count": 42,
   "metadata": {},
   "outputs": [],
   "source": [
    "#custom function to format the hyper-paramter tuning results as a Pandas data frame\n",
    "def get_results(gs):\n",
    "\n",
    "    def model_result(scores, params):\n",
    "        scores = {'mean_score': np.mean(scores)}\n",
    "        return pd.Series({**params,**scores})\n",
    "\n",
    "    models = []\n",
    "    scores = []\n",
    "\n",
    "    for i in range(gs.n_splits_):\n",
    "        key = f\"split{i}_test_score\"\n",
    "        r = gs.cv_results_[key]        \n",
    "        scores.append(r.reshape(-1,1))\n",
    "\n",
    "    all_scores = np.hstack(scores)\n",
    "    for p, s in zip(gs.cv_results_['params'], all_scores):\n",
    "        models.append((model_result(s, p)))\n",
    "\n",
    "    pipe_results = pd.concat(models, axis=1).T.sort_values(['mean_score'], ascending=False)\n",
    "\n",
    "    columns_first = ['mean_score']\n",
    "    columns = columns_first + [c for c in pipe_results.columns if c not in columns_first]\n",
    "\n",
    "    return pipe_results[columns]"
   ]
  },
  {
   "cell_type": "markdown",
   "metadata": {},
   "source": [
    "We will now start with the Hyper-Parameter tuning for k-Nearest Neighbours model."
   ]
  },
  {
   "cell_type": "markdown",
   "metadata": {},
   "source": [
    "### 7.4.1. For k-Nearest Neighbours"
   ]
  },
  {
   "cell_type": "markdown",
   "metadata": {},
   "source": [
    "We will start by defining the pipeline `pipe_KNN` using `FeatureSelector()` and `KNeighborsClassifier()`. We will then specify the parameters for `pipe_KNN` and store them in `pipe_KNN_parameters`. In `pipe_KNN_parameters`, we will first mention the number of features to be considered for tunning. We will then mention the number of neighbours to be considered for this algorithm. We also mention the values of p to be considered. `p = 1` will implement the algorithm using Manhattan Distance and `p = 2` will implement the algorithm using Euclidean Distance.\n",
    "\n",
    "Using the `GridSearchCV()` function from `sklearn.model_selection` module of `Scikit-Learn` package, we will define the model fitting strategy and store it in `gs_kNN`. `GridSearchCV()` function will allow us to scan through all the candidate models and then decide the optimal values. Here, we will pass the pipeline `pipe_KNN`, pipeline parameters `pipe_KNN_parameters` and the model evaluation strategy in `cv_method` to `GridSearchCV()` function.\n",
    "\n",
    "We will finally fit this model on `train_data` and `train_target`, using the fitting strategy defined in `gs_kNN`."
   ]
  },
  {
   "cell_type": "code",
   "execution_count": 43,
   "metadata": {
    "scrolled": false
   },
   "outputs": [
    {
     "name": "stdout",
     "output_type": "stream",
     "text": [
      "Fitting 15 folds for each of 30 candidates, totalling 450 fits\n"
     ]
    },
    {
     "name": "stderr",
     "output_type": "stream",
     "text": [
      "[Parallel(n_jobs=-2)]: Using backend LokyBackend with 7 concurrent workers.\n",
      "[Parallel(n_jobs=-2)]: Done  36 tasks      | elapsed:    5.8s\n",
      "[Parallel(n_jobs=-2)]: Done 186 tasks      | elapsed:   16.5s\n",
      "[Parallel(n_jobs=-2)]: Done 436 tasks      | elapsed:   39.2s\n",
      "[Parallel(n_jobs=-2)]: Done 450 out of 450 | elapsed:   40.3s finished\n"
     ]
    },
    {
     "data": {
      "text/plain": [
       "GridSearchCV(cv=RepeatedStratifiedKFold(n_repeats=3, n_splits=5, random_state=111),\n",
       "             error_score=nan,\n",
       "             estimator=Pipeline(memory=None,\n",
       "                                steps=[('feature_selector',\n",
       "                                        FeatureSelector(n_features_=5)),\n",
       "                                       ('classifier_knn',\n",
       "                                        KNeighborsClassifier(algorithm='auto',\n",
       "                                                             leaf_size=30,\n",
       "                                                             metric='minkowski',\n",
       "                                                             metric_params=None,\n",
       "                                                             n_jobs=None,\n",
       "                                                             n_neighbors=5, p=2,\n",
       "                                                             weights='uniform'))],\n",
       "                                verbose=False),\n",
       "             iid='deprecated', n_jobs=-2,\n",
       "             param_grid={'classifier_knn__n_neighbors': [1, 2, 3, 5, 10],\n",
       "                         'classifier_knn__p': [1, 2],\n",
       "                         'feature_selector__n_features_': [10, 20, 40]},\n",
       "             pre_dispatch='2*n_jobs', refit=True, return_train_score=False,\n",
       "             scoring='roc_auc', verbose=1)"
      ]
     },
     "execution_count": 43,
     "metadata": {},
     "output_type": "execute_result"
    }
   ],
   "source": [
    "#define pipeline for K-Nearest Neighbour model\n",
    "pipe_KNN = Pipeline([('feature_selector', FeatureSelector()),\n",
    "                     ('classifier_knn', KNeighborsClassifier())])\n",
    "\n",
    "#define hyper-parameters and number of features for K-Nearest Neighbour model\n",
    "pipe_KNN_parameters = {'feature_selector__n_features_': [10, 20, 40],\n",
    "                       'classifier_knn__n_neighbors': [1, 2, 3, 5, 10],\n",
    "                       'classifier_knn__p': [1, 2]}\n",
    "\n",
    "#define hyper-parameter tuning for K-Nearest Neighbour model\n",
    "gs_kNN = GridSearchCV(estimator = pipe_KNN,\n",
    "                      param_grid = pipe_KNN_parameters,\n",
    "                      cv = cv_method,\n",
    "                      refit = True,\n",
    "                      n_jobs = -2,\n",
    "                      scoring = 'roc_auc',\n",
    "                      verbose = 1)\n",
    "\n",
    "#fit model on train data to perform hyper-parameter tuning\n",
    "gs_kNN.fit(train_data, train_target)"
   ]
  },
  {
   "cell_type": "markdown",
   "metadata": {},
   "source": [
    "Now that we have fitted the model, we will check what are the optimal parameters that we got."
   ]
  },
  {
   "cell_type": "code",
   "execution_count": 44,
   "metadata": {},
   "outputs": [
    {
     "data": {
      "text/plain": [
       "{'classifier_knn__n_neighbors': 10,\n",
       " 'classifier_knn__p': 2,\n",
       " 'feature_selector__n_features_': 40}"
      ]
     },
     "execution_count": 44,
     "metadata": {},
     "output_type": "execute_result"
    }
   ],
   "source": [
    "#display optimal number of features and hyper-parameters for K-Nearest Neighbour model\n",
    "gs_kNN.best_params_"
   ]
  },
  {
   "cell_type": "markdown",
   "metadata": {},
   "source": [
    "Above are the optimal parameters for k-Nearest Neighbours model.\n",
    "\n",
    "We will now check how good the algorithm performs for other values of p and number of neighbours."
   ]
  },
  {
   "cell_type": "code",
   "execution_count": 45,
   "metadata": {},
   "outputs": [
    {
     "data": {
      "text/html": [
       "\n",
       "<div id=\"altair-viz-33d60565d6a94d4096ba1de783100ec3\"></div>\n",
       "<script type=\"text/javascript\">\n",
       "  (function(spec, embedOpt){\n",
       "    let outputDiv = document.currentScript.previousElementSibling;\n",
       "    if (outputDiv.id !== \"altair-viz-33d60565d6a94d4096ba1de783100ec3\") {\n",
       "      outputDiv = document.getElementById(\"altair-viz-33d60565d6a94d4096ba1de783100ec3\");\n",
       "    }\n",
       "    const paths = {\n",
       "      \"vega\": \"https://cdn.jsdelivr.net/npm//vega@5?noext\",\n",
       "      \"vega-lib\": \"https://cdn.jsdelivr.net/npm//vega-lib?noext\",\n",
       "      \"vega-lite\": \"https://cdn.jsdelivr.net/npm//vega-lite@4.8.1?noext\",\n",
       "      \"vega-embed\": \"https://cdn.jsdelivr.net/npm//vega-embed@6?noext\",\n",
       "    };\n",
       "\n",
       "    function loadScript(lib) {\n",
       "      return new Promise(function(resolve, reject) {\n",
       "        var s = document.createElement('script');\n",
       "        s.src = paths[lib];\n",
       "        s.async = true;\n",
       "        s.onload = () => resolve(paths[lib]);\n",
       "        s.onerror = () => reject(`Error loading script: ${paths[lib]}`);\n",
       "        document.getElementsByTagName(\"head\")[0].appendChild(s);\n",
       "      });\n",
       "    }\n",
       "\n",
       "    function showError(err) {\n",
       "      outputDiv.innerHTML = `<div class=\"error\" style=\"color:red;\">${err}</div>`;\n",
       "      throw err;\n",
       "    }\n",
       "\n",
       "    function displayChart(vegaEmbed) {\n",
       "      vegaEmbed(outputDiv, spec, embedOpt)\n",
       "        .catch(err => showError(`Javascript Error: ${err.message}<br>This usually means there's a typo in your chart specification. See the javascript console for the full traceback.`));\n",
       "    }\n",
       "\n",
       "    if(typeof define === \"function\" && define.amd) {\n",
       "      requirejs.config({paths});\n",
       "      require([\"vega-embed\"], displayChart, err => showError(`Error loading script: ${err.message}`));\n",
       "    } else if (typeof vegaEmbed === \"function\") {\n",
       "      displayChart(vegaEmbed);\n",
       "    } else {\n",
       "      loadScript(\"vega\")\n",
       "        .then(() => loadScript(\"vega-lite\"))\n",
       "        .then(() => loadScript(\"vega-embed\"))\n",
       "        .catch(showError)\n",
       "        .then(() => displayChart(vegaEmbed));\n",
       "    }\n",
       "  })({\"config\": {\"view\": {\"continuousWidth\": 400, \"continuousHeight\": 300}}, \"data\": {\"name\": \"data-d990695b33ab48c5052edffabdff6272\"}, \"mark\": {\"type\": \"line\", \"point\": true}, \"encoding\": {\"color\": {\"type\": \"nominal\", \"field\": \"classifier_knn__p\", \"title\": \"p\"}, \"x\": {\"type\": \"quantitative\", \"field\": \"classifier_knn__n_neighbors\", \"title\": \"Number of Neighbors\"}, \"y\": {\"type\": \"quantitative\", \"field\": \"mean_score\", \"scale\": {\"zero\": false}, \"title\": \"AUC Score\"}}, \"title\": \"Figure 12: KNN Performance Comparison with 40 Features\", \"$schema\": \"https://vega.github.io/schema/vega-lite/v4.8.1.json\", \"datasets\": {\"data-d990695b33ab48c5052edffabdff6272\": [{\"mean_score\": 0.8097611740494752, \"classifier_knn__n_neighbors\": 10.0, \"classifier_knn__p\": 2.0, \"feature_selector__n_features_\": 40.0}, {\"mean_score\": 0.8090703078862115, \"classifier_knn__n_neighbors\": 10.0, \"classifier_knn__p\": 1.0, \"feature_selector__n_features_\": 40.0}, {\"mean_score\": 0.7863669371368514, \"classifier_knn__n_neighbors\": 5.0, \"classifier_knn__p\": 2.0, \"feature_selector__n_features_\": 40.0}, {\"mean_score\": 0.7860057287922374, \"classifier_knn__n_neighbors\": 5.0, \"classifier_knn__p\": 1.0, \"feature_selector__n_features_\": 40.0}, {\"mean_score\": 0.7530232946359497, \"classifier_knn__n_neighbors\": 3.0, \"classifier_knn__p\": 2.0, \"feature_selector__n_features_\": 40.0}, {\"mean_score\": 0.7529766362203518, \"classifier_knn__n_neighbors\": 3.0, \"classifier_knn__p\": 1.0, \"feature_selector__n_features_\": 40.0}, {\"mean_score\": 0.713278343636814, \"classifier_knn__n_neighbors\": 2.0, \"classifier_knn__p\": 1.0, \"feature_selector__n_features_\": 40.0}, {\"mean_score\": 0.710303671976862, \"classifier_knn__n_neighbors\": 2.0, \"classifier_knn__p\": 2.0, \"feature_selector__n_features_\": 40.0}, {\"mean_score\": 0.647928061456508, \"classifier_knn__n_neighbors\": 1.0, \"classifier_knn__p\": 1.0, \"feature_selector__n_features_\": 40.0}, {\"mean_score\": 0.647039675275524, \"classifier_knn__n_neighbors\": 1.0, \"classifier_knn__p\": 2.0, \"feature_selector__n_features_\": 40.0}]}}, {\"mode\": \"vega-lite\"});\n",
       "</script>"
      ],
      "text/plain": [
       "alt.Chart(...)"
      ]
     },
     "execution_count": 45,
     "metadata": {},
     "output_type": "execute_result"
    }
   ],
   "source": [
    "#fetch performance scores for all combinations of number of features and hyper-parameters\n",
    "result_KNN = get_results(gs_kNN)\n",
    "\n",
    "#extract values where number of features is 40\n",
    "result_KNN_features = result_KNN[result_KNN['feature_selector__n_features_'] == 40]\n",
    "\n",
    "#plot the performance scores for K-Nearest Neighbour model\n",
    "alt.Chart(result_KNN_features, \n",
    "          title = 'Figure 12: KNN Performance Comparison with 40 Features'\n",
    "         ).mark_line(point=True).encode(alt.X('classifier_knn__n_neighbors', title = 'Number of Neighbors'),\n",
    "                                        alt.Y('mean_score', title = 'AUC Score', scale = alt.Scale(zero = False)),\n",
    "                                        alt.Color('classifier_knn__p:N', title = 'p')\n",
    ")"
   ]
  },
  {
   "cell_type": "markdown",
   "metadata": {},
   "source": [
    "We will now perform the hyper-parameter tuning for Decision Tree model."
   ]
  },
  {
   "cell_type": "markdown",
   "metadata": {},
   "source": [
    "### 7.4.2. For Decision Tree"
   ]
  },
  {
   "cell_type": "markdown",
   "metadata": {},
   "source": [
    "For this model, we will first define the pipeline `pipe_DT` using `FeatureSelector()` and `DecisionTreeClassifier()`. We will set the criterion for Decision Tree Classifier as `gini`. We will then specify the parameters for `pipe_DT` and store them in `params_pipe_DT`. In ``params_pipe_DT``, we will first provide the number of features to be considered for tuning. We will then provide the values for maximum depth of tree to be considered for tuning. We will also provide the values for minimum  of records to be present in a node before splitting.\n",
    "\n",
    "As done in previous step, we will define the fitting strategy using `GridSearchCV()` function from `sklearn.model_selection` module of `Scikit-Learn` package and store it in `gs_DT`. We will then fit this model on `train_data` and `train_target`, using the fitting strategy defined in `gs_DT`."
   ]
  },
  {
   "cell_type": "code",
   "execution_count": 46,
   "metadata": {},
   "outputs": [
    {
     "name": "stdout",
     "output_type": "stream",
     "text": [
      "Fitting 15 folds for each of 36 candidates, totalling 540 fits\n"
     ]
    },
    {
     "name": "stderr",
     "output_type": "stream",
     "text": [
      "[Parallel(n_jobs=-2)]: Using backend LokyBackend with 7 concurrent workers.\n",
      "[Parallel(n_jobs=-2)]: Done  36 tasks      | elapsed:    3.0s\n",
      "[Parallel(n_jobs=-2)]: Done 186 tasks      | elapsed:   15.5s\n",
      "[Parallel(n_jobs=-2)]: Done 436 tasks      | elapsed:   36.3s\n",
      "[Parallel(n_jobs=-2)]: Done 540 out of 540 | elapsed:   45.4s finished\n"
     ]
    }
   ],
   "source": [
    "#define pipeline for Decision Tree model\n",
    "pipe_DT = Pipeline([('feature_selector', FeatureSelector()),\n",
    "                    ('dt', DecisionTreeClassifier(criterion='gini', random_state=111))])\n",
    "\n",
    "#define hyper-parameters and number of features for Decision Tree model\n",
    "params_pipe_DT = {'feature_selector__n_features_': [10, 20, 40],\n",
    "                  'dt__max_depth': [5, 10, 15],\n",
    "                  'dt__min_samples_split': [5, 10, 50, 100]}\n",
    "\n",
    "#define hyper-parameter tuning for Decision Tree model\n",
    "gs_DT = GridSearchCV(estimator = pipe_DT, \n",
    "                     param_grid = params_pipe_DT, \n",
    "                     cv = cv_method,\n",
    "                     refit = True,\n",
    "                     n_jobs = -2,\n",
    "                     scoring = 'roc_auc',\n",
    "                     verbose = 1) \n",
    "\n",
    "#fit model on train data to perform hyper-parameter tuning\n",
    "gs_DT.fit(train_data, train_target);"
   ]
  },
  {
   "cell_type": "markdown",
   "metadata": {},
   "source": [
    "Now that we have fitted the model, we will check what are the optimal parameters that we got."
   ]
  },
  {
   "cell_type": "code",
   "execution_count": 47,
   "metadata": {},
   "outputs": [
    {
     "data": {
      "text/plain": [
       "{'dt__max_depth': 5,\n",
       " 'dt__min_samples_split': 50,\n",
       " 'feature_selector__n_features_': 10}"
      ]
     },
     "execution_count": 47,
     "metadata": {},
     "output_type": "execute_result"
    }
   ],
   "source": [
    "#display optimal number of features and hyper-parameters for Decision Tree model\n",
    "gs_DT.best_params_"
   ]
  },
  {
   "cell_type": "markdown",
   "metadata": {},
   "source": [
    "Above are the optimal parameters for Decision Tree model.\n",
    "\n",
    "We will now check how good does the algorithm perform for other values of maximum depth and minimum records for split."
   ]
  },
  {
   "cell_type": "code",
   "execution_count": 48,
   "metadata": {},
   "outputs": [
    {
     "data": {
      "text/html": [
       "\n",
       "<div id=\"altair-viz-a6dc1bc5643b41b99161c7512208ea85\"></div>\n",
       "<script type=\"text/javascript\">\n",
       "  (function(spec, embedOpt){\n",
       "    let outputDiv = document.currentScript.previousElementSibling;\n",
       "    if (outputDiv.id !== \"altair-viz-a6dc1bc5643b41b99161c7512208ea85\") {\n",
       "      outputDiv = document.getElementById(\"altair-viz-a6dc1bc5643b41b99161c7512208ea85\");\n",
       "    }\n",
       "    const paths = {\n",
       "      \"vega\": \"https://cdn.jsdelivr.net/npm//vega@5?noext\",\n",
       "      \"vega-lib\": \"https://cdn.jsdelivr.net/npm//vega-lib?noext\",\n",
       "      \"vega-lite\": \"https://cdn.jsdelivr.net/npm//vega-lite@4.8.1?noext\",\n",
       "      \"vega-embed\": \"https://cdn.jsdelivr.net/npm//vega-embed@6?noext\",\n",
       "    };\n",
       "\n",
       "    function loadScript(lib) {\n",
       "      return new Promise(function(resolve, reject) {\n",
       "        var s = document.createElement('script');\n",
       "        s.src = paths[lib];\n",
       "        s.async = true;\n",
       "        s.onload = () => resolve(paths[lib]);\n",
       "        s.onerror = () => reject(`Error loading script: ${paths[lib]}`);\n",
       "        document.getElementsByTagName(\"head\")[0].appendChild(s);\n",
       "      });\n",
       "    }\n",
       "\n",
       "    function showError(err) {\n",
       "      outputDiv.innerHTML = `<div class=\"error\" style=\"color:red;\">${err}</div>`;\n",
       "      throw err;\n",
       "    }\n",
       "\n",
       "    function displayChart(vegaEmbed) {\n",
       "      vegaEmbed(outputDiv, spec, embedOpt)\n",
       "        .catch(err => showError(`Javascript Error: ${err.message}<br>This usually means there's a typo in your chart specification. See the javascript console for the full traceback.`));\n",
       "    }\n",
       "\n",
       "    if(typeof define === \"function\" && define.amd) {\n",
       "      requirejs.config({paths});\n",
       "      require([\"vega-embed\"], displayChart, err => showError(`Error loading script: ${err.message}`));\n",
       "    } else if (typeof vegaEmbed === \"function\") {\n",
       "      displayChart(vegaEmbed);\n",
       "    } else {\n",
       "      loadScript(\"vega\")\n",
       "        .then(() => loadScript(\"vega-lite\"))\n",
       "        .then(() => loadScript(\"vega-embed\"))\n",
       "        .catch(showError)\n",
       "        .then(() => displayChart(vegaEmbed));\n",
       "    }\n",
       "  })({\"config\": {\"view\": {\"continuousWidth\": 400, \"continuousHeight\": 300}}, \"data\": {\"name\": \"data-a6bed172a763ed4535c3470334903aff\"}, \"mark\": {\"type\": \"line\", \"point\": true}, \"encoding\": {\"color\": {\"type\": \"nominal\", \"field\": \"dt__max_depth\", \"title\": \"Maximum Depth\"}, \"x\": {\"type\": \"quantitative\", \"field\": \"dt__min_samples_split\", \"title\": \"Minimum Samples for Split\"}, \"y\": {\"type\": \"quantitative\", \"field\": \"mean_score\", \"scale\": {\"zero\": false}, \"title\": \"AUC Score\"}}, \"title\": \"Figure 13: DT Performance Comparison with 10 Features\", \"$schema\": \"https://vega.github.io/schema/vega-lite/v4.8.1.json\", \"datasets\": {\"data-a6bed172a763ed4535c3470334903aff\": [{\"mean_score\": 0.8007834318015653, \"dt__max_depth\": 5.0, \"dt__min_samples_split\": 50.0, \"feature_selector__n_features_\": 10.0}, {\"mean_score\": 0.7986987170372314, \"dt__max_depth\": 5.0, \"dt__min_samples_split\": 100.0, \"feature_selector__n_features_\": 10.0}, {\"mean_score\": 0.7983647651114038, \"dt__max_depth\": 15.0, \"dt__min_samples_split\": 100.0, \"feature_selector__n_features_\": 10.0}, {\"mean_score\": 0.7971955826021214, \"dt__max_depth\": 10.0, \"dt__min_samples_split\": 100.0, \"feature_selector__n_features_\": 10.0}, {\"mean_score\": 0.7967496295133623, \"dt__max_depth\": 5.0, \"dt__min_samples_split\": 10.0, \"feature_selector__n_features_\": 10.0}, {\"mean_score\": 0.7929925993664378, \"dt__max_depth\": 15.0, \"dt__min_samples_split\": 50.0, \"feature_selector__n_features_\": 10.0}, {\"mean_score\": 0.7898502215586148, \"dt__max_depth\": 10.0, \"dt__min_samples_split\": 50.0, \"feature_selector__n_features_\": 10.0}, {\"mean_score\": 0.7896670119777324, \"dt__max_depth\": 5.0, \"dt__min_samples_split\": 5.0, \"feature_selector__n_features_\": 10.0}, {\"mean_score\": 0.7346025182905708, \"dt__max_depth\": 10.0, \"dt__min_samples_split\": 10.0, \"feature_selector__n_features_\": 10.0}, {\"mean_score\": 0.7226426348940422, \"dt__max_depth\": 10.0, \"dt__min_samples_split\": 5.0, \"feature_selector__n_features_\": 10.0}, {\"mean_score\": 0.7110258773135129, \"dt__max_depth\": 15.0, \"dt__min_samples_split\": 10.0, \"feature_selector__n_features_\": 10.0}, {\"mean_score\": 0.6904723119805777, \"dt__max_depth\": 15.0, \"dt__min_samples_split\": 5.0, \"feature_selector__n_features_\": 10.0}]}}, {\"mode\": \"vega-lite\"});\n",
       "</script>"
      ],
      "text/plain": [
       "alt.Chart(...)"
      ]
     },
     "execution_count": 48,
     "metadata": {},
     "output_type": "execute_result"
    }
   ],
   "source": [
    "#fetch performance scores for all combinations of number of features and hyper-parameters\n",
    "result_DT = get_results(gs_DT)\n",
    "\n",
    "#extract values where number of features is 10\n",
    "results_DT_features = result_DT[result_DT['feature_selector__n_features_'] == 10]\n",
    "\n",
    "#plot the performance scores for Decision Tree model\n",
    "alt.Chart(results_DT_features, \n",
    "          title = 'Figure 13: DT Performance Comparison with 10 Features'\n",
    "         ).mark_line(point = True).encode(\n",
    "    alt.X('dt__min_samples_split', title = 'Minimum Samples for Split'),\n",
    "    alt.Y('mean_score', title = 'AUC Score', scale = alt.Scale(zero = False)),\n",
    "    alt.Color('dt__max_depth:N', title = 'Maximum Depth')\n",
    ")"
   ]
  },
  {
   "cell_type": "markdown",
   "metadata": {},
   "source": [
    "We will now perform the hyper-parameter tuning for Random Forests model."
   ]
  },
  {
   "cell_type": "markdown",
   "metadata": {},
   "source": [
    "### 7.4.3. For Random Forests"
   ]
  },
  {
   "cell_type": "markdown",
   "metadata": {},
   "source": [
    "For this model, we will first define the pipeline `pipe_RDT` using `FeatureSelector` and `RandomForestClassifier()`. We will then specify the parameters for `pipe_RDT` and in store them in `params_pipe_RDT`. In `params_pipe_RDT`, we will first decide the number of features to be considered for tuning. Then we will decide the values for number of estimators to be considered for tuning the model. Number of estimators is the number of decision trees to be implemented as a part of Random Forests algorithm.\n",
    "\n",
    "As done in previous step, we will define the fitting strategy using `GridSearchCV()` function from `sklearn.model_selection` module of `Scikit-Learn` package and store it in `gs_RDT`. We will then fit this model on `train_data` and `train_target`, using the fitting strategy defined in `gs_RDT`."
   ]
  },
  {
   "cell_type": "code",
   "execution_count": 49,
   "metadata": {},
   "outputs": [
    {
     "name": "stdout",
     "output_type": "stream",
     "text": [
      "Fitting 15 folds for each of 6 candidates, totalling 90 fits\n"
     ]
    },
    {
     "name": "stderr",
     "output_type": "stream",
     "text": [
      "[Parallel(n_jobs=-2)]: Using backend LokyBackend with 7 concurrent workers.\n",
      "[Parallel(n_jobs=-2)]: Done  36 tasks      | elapsed:    6.8s\n",
      "[Parallel(n_jobs=-2)]: Done  90 out of  90 | elapsed:   16.9s finished\n"
     ]
    }
   ],
   "source": [
    "#define pipeline for Random Forests model\n",
    "pipe_RDT = Pipeline([('feature_selector', FeatureSelector()),\n",
    "                    ('rdt', RandomForestClassifier(random_state = 111))])\n",
    "\n",
    "#define hyper-parameters and number of features for Random Forests model\n",
    "params_pipe_RDT = {'feature_selector__n_features_': [10, 20, 40],\n",
    "                  'rdt__n_estimators':[100, 150]}\n",
    "\n",
    "#define hyper-parameter tuning for Random Forests model\n",
    "gs_RDT = GridSearchCV(estimator = pipe_RDT, \n",
    "                      param_grid = params_pipe_RDT, \n",
    "                      cv = cv_method,\n",
    "                      refit = True,\n",
    "                      n_jobs = -2,\n",
    "                      scoring = 'roc_auc',\n",
    "                      verbose = 1) \n",
    "\n",
    "#fit model on train data to perform hyper-parameter tuning\n",
    "gs_RDT.fit(train_data, train_target);"
   ]
  },
  {
   "cell_type": "markdown",
   "metadata": {},
   "source": [
    "Now that we have fitted the model, we will check what are the optimal parameters that we got."
   ]
  },
  {
   "cell_type": "code",
   "execution_count": 50,
   "metadata": {},
   "outputs": [
    {
     "data": {
      "text/plain": [
       "{'feature_selector__n_features_': 20, 'rdt__n_estimators': 150}"
      ]
     },
     "execution_count": 50,
     "metadata": {},
     "output_type": "execute_result"
    }
   ],
   "source": [
    "#display optimal number of features and hyper-parameters for Random Forests model\n",
    "gs_RDT.best_params_"
   ]
  },
  {
   "cell_type": "markdown",
   "metadata": {},
   "source": [
    "Above are the optimal parameters for Random Forests model.\n",
    "\n",
    "We will now check how good does this model perform for other values of number of estimators."
   ]
  },
  {
   "cell_type": "code",
   "execution_count": 51,
   "metadata": {},
   "outputs": [
    {
     "data": {
      "text/html": [
       "\n",
       "<div id=\"altair-viz-d98e3406468242e682b21c2b81290319\"></div>\n",
       "<script type=\"text/javascript\">\n",
       "  (function(spec, embedOpt){\n",
       "    let outputDiv = document.currentScript.previousElementSibling;\n",
       "    if (outputDiv.id !== \"altair-viz-d98e3406468242e682b21c2b81290319\") {\n",
       "      outputDiv = document.getElementById(\"altair-viz-d98e3406468242e682b21c2b81290319\");\n",
       "    }\n",
       "    const paths = {\n",
       "      \"vega\": \"https://cdn.jsdelivr.net/npm//vega@5?noext\",\n",
       "      \"vega-lib\": \"https://cdn.jsdelivr.net/npm//vega-lib?noext\",\n",
       "      \"vega-lite\": \"https://cdn.jsdelivr.net/npm//vega-lite@4.8.1?noext\",\n",
       "      \"vega-embed\": \"https://cdn.jsdelivr.net/npm//vega-embed@6?noext\",\n",
       "    };\n",
       "\n",
       "    function loadScript(lib) {\n",
       "      return new Promise(function(resolve, reject) {\n",
       "        var s = document.createElement('script');\n",
       "        s.src = paths[lib];\n",
       "        s.async = true;\n",
       "        s.onload = () => resolve(paths[lib]);\n",
       "        s.onerror = () => reject(`Error loading script: ${paths[lib]}`);\n",
       "        document.getElementsByTagName(\"head\")[0].appendChild(s);\n",
       "      });\n",
       "    }\n",
       "\n",
       "    function showError(err) {\n",
       "      outputDiv.innerHTML = `<div class=\"error\" style=\"color:red;\">${err}</div>`;\n",
       "      throw err;\n",
       "    }\n",
       "\n",
       "    function displayChart(vegaEmbed) {\n",
       "      vegaEmbed(outputDiv, spec, embedOpt)\n",
       "        .catch(err => showError(`Javascript Error: ${err.message}<br>This usually means there's a typo in your chart specification. See the javascript console for the full traceback.`));\n",
       "    }\n",
       "\n",
       "    if(typeof define === \"function\" && define.amd) {\n",
       "      requirejs.config({paths});\n",
       "      require([\"vega-embed\"], displayChart, err => showError(`Error loading script: ${err.message}`));\n",
       "    } else if (typeof vegaEmbed === \"function\") {\n",
       "      displayChart(vegaEmbed);\n",
       "    } else {\n",
       "      loadScript(\"vega\")\n",
       "        .then(() => loadScript(\"vega-lite\"))\n",
       "        .then(() => loadScript(\"vega-embed\"))\n",
       "        .catch(showError)\n",
       "        .then(() => displayChart(vegaEmbed));\n",
       "    }\n",
       "  })({\"config\": {\"view\": {\"continuousWidth\": 400, \"continuousHeight\": 300}}, \"data\": {\"name\": \"data-ef42e3c13f7c542c8bc7e3bd4f8836db\"}, \"mark\": {\"type\": \"line\", \"point\": true}, \"encoding\": {\"x\": {\"type\": \"quantitative\", \"field\": \"rdt__n_estimators\", \"title\": \"No. of Estimators for Decision tree\"}, \"y\": {\"type\": \"quantitative\", \"field\": \"mean_score\", \"scale\": {\"zero\": false}, \"title\": \"AUC Score\"}}, \"title\": \"Figure 14: RDT Performance Comparison with 20 Features\", \"$schema\": \"https://vega.github.io/schema/vega-lite/v4.8.1.json\", \"datasets\": {\"data-ef42e3c13f7c542c8bc7e3bd4f8836db\": [{\"mean_score\": 0.8291985966087029, \"feature_selector__n_features_\": 20.0, \"rdt__n_estimators\": 150.0}, {\"mean_score\": 0.8231557552376224, \"feature_selector__n_features_\": 20.0, \"rdt__n_estimators\": 100.0}]}}, {\"mode\": \"vega-lite\"});\n",
       "</script>"
      ],
      "text/plain": [
       "alt.Chart(...)"
      ]
     },
     "execution_count": 51,
     "metadata": {},
     "output_type": "execute_result"
    }
   ],
   "source": [
    "#fetch performance scores for all combinations of number of features and hyper-parameters\n",
    "result_RDT = get_results(gs_RDT)\n",
    "\n",
    "#extract values where number of features is 20\n",
    "results_RDT_features = result_RDT[result_RDT['feature_selector__n_features_'] == 20]\n",
    "\n",
    "#plot the performance scores for Random Forests model\n",
    "alt.Chart(results_RDT_features, \n",
    "          title = 'Figure 14: RDT Performance Comparison with 20 Features'\n",
    "         ).mark_line(point = True).encode(\n",
    "    alt.X('rdt__n_estimators', title = 'No. of Estimators for Decision tree'),\n",
    "    alt.Y('mean_score', title = 'AUC Score', scale = alt.Scale(zero = False))\n",
    ")"
   ]
  },
  {
   "cell_type": "markdown",
   "metadata": {},
   "source": [
    "We will now perform the hyper-parameter tuning for Naive-Bayes model."
   ]
  },
  {
   "cell_type": "markdown",
   "metadata": {},
   "source": [
    "### 7.4.4. For Naive-Bayes"
   ]
  },
  {
   "cell_type": "markdown",
   "metadata": {},
   "source": [
    "We will be considering the Gaussian Naive-Bayes algorithm here. For this, we will start by applying power transformation on the descriptive features. This is necessary because, for implementing the Naive-Bayes model, all the descriptive features should follow gaussian distribution.\n",
    "\n",
    "After transforming the descriptive features, we will create the pipeline `pipe_NB` using `FeatureSelector` and `GaussianNB`. We will then specify the parameters for `pipe_NB` and store them in `params_pipe_NB`. In `params_pipe_NB`, we will first specify the number of features to be considered for tuning. Then we will specify the smoothening parameter which will lie in the logspace of 10 to 10^-3.\n",
    "\n",
    "For this model, to define the parameter fitting strategy, we will use `RandomizedSearchCV()` function from `sklearn.model_selection` module of `Scikit-Learn` package. We will store this strategy in `gs_NB`. Then we will fit this model on `train_data` and `train_target`, using the fitting strategy defined in `gs_NB`."
   ]
  },
  {
   "cell_type": "code",
   "execution_count": 52,
   "metadata": {},
   "outputs": [
    {
     "name": "stdout",
     "output_type": "stream",
     "text": [
      "Fitting 15 folds for each of 20 candidates, totalling 300 fits\n"
     ]
    },
    {
     "name": "stderr",
     "output_type": "stream",
     "text": [
      "[Parallel(n_jobs=-2)]: Using backend LokyBackend with 7 concurrent workers.\n",
      "[Parallel(n_jobs=-2)]: Done  36 tasks      | elapsed:    2.9s\n",
      "[Parallel(n_jobs=-2)]: Done 186 tasks      | elapsed:   15.9s\n",
      "[Parallel(n_jobs=-2)]: Done 300 out of 300 | elapsed:   25.1s finished\n"
     ]
    }
   ],
   "source": [
    "#apply power transform to the train data\n",
    "Data_sample_train_transformed = preprocessing.PowerTransformer().fit_transform(train_data)\n",
    "\n",
    "#define pipeline for Naive Bayes model\n",
    "pipe_NB = Pipeline([('feature_selector', FeatureSelector()), \n",
    "                     ('gs_nb', GaussianNB())])\n",
    "\n",
    "#define hyper-parameters and number of features for Naive Bayes model\n",
    "params_pipe_NB = {'feature_selector__n_features_': [10, 20, Data.shape[1]],\n",
    "                  'gs_nb__var_smoothing': np.logspace(1,-3, num = 200)}\n",
    "\n",
    "#define hyper-parameter tuning for Naive Bayes model\n",
    "gs_NB = RandomizedSearchCV(estimator = pipe_NB, \n",
    "                           param_distributions = params_pipe_NB, \n",
    "                           cv = cv_method,\n",
    "                           refit = True,\n",
    "                           n_jobs = -2,\n",
    "                           scoring = 'roc_auc',\n",
    "                           n_iter = 20,\n",
    "                           verbose = 1) \n",
    "\n",
    "#fit model on train data to perform hyper-parameter tuning\n",
    "gs_NB.fit(Data_sample_train_transformed, train_target);"
   ]
  },
  {
   "cell_type": "markdown",
   "metadata": {},
   "source": [
    "Now that we have fitted the model, we will check what are the optimal parameters that we got."
   ]
  },
  {
   "cell_type": "code",
   "execution_count": 53,
   "metadata": {},
   "outputs": [
    {
     "data": {
      "text/plain": [
       "{'gs_nb__var_smoothing': 1.3049019780144022,\n",
       " 'feature_selector__n_features_': 10}"
      ]
     },
     "execution_count": 53,
     "metadata": {},
     "output_type": "execute_result"
    }
   ],
   "source": [
    "#display optimal number of features and hyper-parameters for Naive Bayes model\n",
    "gs_NB.best_params_"
   ]
  },
  {
   "cell_type": "markdown",
   "metadata": {},
   "source": [
    "Above are the optimal parameters for Naive-Bayes model.\n",
    "\n",
    "We will now check how good does this model perform for other values of the smoothening parameter."
   ]
  },
  {
   "cell_type": "code",
   "execution_count": 54,
   "metadata": {},
   "outputs": [
    {
     "data": {
      "text/html": [
       "\n",
       "<div id=\"altair-viz-2b54266696ce4d36a5097597233a3b7c\"></div>\n",
       "<script type=\"text/javascript\">\n",
       "  (function(spec, embedOpt){\n",
       "    let outputDiv = document.currentScript.previousElementSibling;\n",
       "    if (outputDiv.id !== \"altair-viz-2b54266696ce4d36a5097597233a3b7c\") {\n",
       "      outputDiv = document.getElementById(\"altair-viz-2b54266696ce4d36a5097597233a3b7c\");\n",
       "    }\n",
       "    const paths = {\n",
       "      \"vega\": \"https://cdn.jsdelivr.net/npm//vega@5?noext\",\n",
       "      \"vega-lib\": \"https://cdn.jsdelivr.net/npm//vega-lib?noext\",\n",
       "      \"vega-lite\": \"https://cdn.jsdelivr.net/npm//vega-lite@4.8.1?noext\",\n",
       "      \"vega-embed\": \"https://cdn.jsdelivr.net/npm//vega-embed@6?noext\",\n",
       "    };\n",
       "\n",
       "    function loadScript(lib) {\n",
       "      return new Promise(function(resolve, reject) {\n",
       "        var s = document.createElement('script');\n",
       "        s.src = paths[lib];\n",
       "        s.async = true;\n",
       "        s.onload = () => resolve(paths[lib]);\n",
       "        s.onerror = () => reject(`Error loading script: ${paths[lib]}`);\n",
       "        document.getElementsByTagName(\"head\")[0].appendChild(s);\n",
       "      });\n",
       "    }\n",
       "\n",
       "    function showError(err) {\n",
       "      outputDiv.innerHTML = `<div class=\"error\" style=\"color:red;\">${err}</div>`;\n",
       "      throw err;\n",
       "    }\n",
       "\n",
       "    function displayChart(vegaEmbed) {\n",
       "      vegaEmbed(outputDiv, spec, embedOpt)\n",
       "        .catch(err => showError(`Javascript Error: ${err.message}<br>This usually means there's a typo in your chart specification. See the javascript console for the full traceback.`));\n",
       "    }\n",
       "\n",
       "    if(typeof define === \"function\" && define.amd) {\n",
       "      requirejs.config({paths});\n",
       "      require([\"vega-embed\"], displayChart, err => showError(`Error loading script: ${err.message}`));\n",
       "    } else if (typeof vegaEmbed === \"function\") {\n",
       "      displayChart(vegaEmbed);\n",
       "    } else {\n",
       "      loadScript(\"vega\")\n",
       "        .then(() => loadScript(\"vega-lite\"))\n",
       "        .then(() => loadScript(\"vega-embed\"))\n",
       "        .catch(showError)\n",
       "        .then(() => displayChart(vegaEmbed));\n",
       "    }\n",
       "  })({\"config\": {\"view\": {\"continuousWidth\": 400, \"continuousHeight\": 300}}, \"data\": {\"name\": \"data-7ad02d1e8d3340ec779254d3d827e0aa\"}, \"mark\": {\"type\": \"line\", \"point\": true}, \"encoding\": {\"x\": {\"type\": \"quantitative\", \"field\": \"gs_nb__var_smoothing\", \"title\": \"Smoothening Parameter\"}, \"y\": {\"type\": \"quantitative\", \"field\": \"mean_score\", \"scale\": {\"zero\": false}, \"title\": \"AUC Score\"}}, \"title\": \"Figure 15: NB Performance Comparison with 10 Features\", \"$schema\": \"https://vega.github.io/schema/vega-lite/v4.8.1.json\", \"datasets\": {\"data-7ad02d1e8d3340ec779254d3d827e0aa\": [{\"mean_score\": 0.8318409014871547, \"gs_nb__var_smoothing\": 1.3049019780144022, \"feature_selector__n_features_\": 10.0}, {\"mean_score\": 0.8310383265744646, \"gs_nb__var_smoothing\": 3.6123426997094312, \"feature_selector__n_features_\": 10.0}, {\"mean_score\": 0.8308849308634315, \"gs_nb__var_smoothing\": 0.17027691722258995, \"feature_selector__n_features_\": 10.0}, {\"mean_score\": 0.8301850423217833, \"gs_nb__var_smoothing\": 5.231099308056262, \"feature_selector__n_features_\": 10.0}, {\"mean_score\": 0.8292161032227653, \"gs_nb__var_smoothing\": 0.6517339604882424, \"feature_selector__n_features_\": 10.0}, {\"mean_score\": 0.8288129019221505, \"gs_nb__var_smoothing\": 0.0024094035602395245, \"feature_selector__n_features_\": 10.0}, {\"mean_score\": 0.8286133528348102, \"gs_nb__var_smoothing\": 0.0027682866303920667, \"feature_selector__n_features_\": 10.0}, {\"mean_score\": 0.8280284893257951, \"gs_nb__var_smoothing\": 0.012173827277396607, \"feature_selector__n_features_\": 10.0}]}}, {\"mode\": \"vega-lite\"});\n",
       "</script>"
      ],
      "text/plain": [
       "alt.Chart(...)"
      ]
     },
     "execution_count": 54,
     "metadata": {},
     "output_type": "execute_result"
    }
   ],
   "source": [
    "#fetch performance scores for all combinations of number of features and hyper-parameters\n",
    "result_NB = get_results(gs_NB)\n",
    "\n",
    "#extract values where number of features is 10\n",
    "result_NB_features = result_NB[result_NB['feature_selector__n_features_'] == 10]\n",
    "\n",
    "#plot the performance scores for Naive Bayes model\n",
    "alt.Chart(result_NB_features, \n",
    "          title = 'Figure 15: NB Performance Comparison with 10 Features'\n",
    "         ).mark_line(point = True).encode(\n",
    "    alt.X('gs_nb__var_smoothing', title = 'Smoothening Parameter'),\n",
    "    alt.Y('mean_score', title = 'AUC Score', scale = alt.Scale(zero = False))\n",
    ")"
   ]
  },
  {
   "cell_type": "markdown",
   "metadata": {},
   "source": [
    "At this point, for all the 4 models, we have obtained the optimal hyper-parameter values. Now that we have trained all the 4 models using `train_data` and `train_target`, we will fit all the trained models on `test_data` and `test_target`. We will then compare the performances of all the models using multiple performance metrics."
   ]
  },
  {
   "cell_type": "markdown",
   "metadata": {},
   "source": [
    "## 7.5. Performance Comparison"
   ]
  },
  {
   "cell_type": "markdown",
   "metadata": {},
   "source": [
    "We will perform the performance comparison in 2 steps. First, we will fit the trained model on test data and compute the AUC score for each model. We will then compare the AUC score values for all 4 models. We will perform paired t-test to check the significance of difference between these AUC score values for all the models and come up with the best model. Second, we will compute the confusion matrix, precision, recall and F1-score for all the models. We will then compare the appropriate values and chose the best model."
   ]
  },
  {
   "cell_type": "markdown",
   "metadata": {},
   "source": [
    "### 7.5.1. Using AUC Score"
   ]
  },
  {
   "cell_type": "markdown",
   "metadata": {},
   "source": [
    "For hyper-parameter tuning, we had performed the model evaluation using cross validation on `train_data` and `train_target`. For performance testing, we will perform the same model evaluation strategy by fitting the trained model on `test_data` and `test_target`. Using `cross_val_score()` function from `sklearn.model_selection` module of `Scikit-Learn` package, we will fit the trained models on test data and compute the cross-validation scores.\n",
    "\n",
    "We will store the computed cross validation scores for k-Nearest Neighbours, Decision Tree, Random Forests and Naive Bayes in `cv_results_KNN`, `cv_results_DT`, `cv_results_RDT` and `cv_results_NB` respectively."
   ]
  },
  {
   "cell_type": "code",
   "execution_count": 55,
   "metadata": {},
   "outputs": [],
   "source": [
    "#compute cross validated score for K-Nearest Neighbour model\n",
    "cv_results_KNN = cross_val_score(estimator = gs_kNN.best_estimator_,\n",
    "                                 X = test_data,\n",
    "                                 y = test_target, \n",
    "                                 cv = cv_method, \n",
    "                                 n_jobs = -2,\n",
    "                                 scoring = 'roc_auc')\n",
    "\n",
    "#compute cross validated score for Decision Tree model\n",
    "cv_results_DT = cross_val_score(estimator = gs_DT.best_estimator_,\n",
    "                                X = test_data,\n",
    "                                y = test_target, \n",
    "                                cv = cv_method, \n",
    "                                n_jobs = -2,\n",
    "                                scoring = 'roc_auc')\n",
    "\n",
    "#compute cross validated score for Random Forests model\n",
    "cv_results_RDT = cross_val_score(estimator = gs_RDT.best_estimator_,\n",
    "                                X = test_data,\n",
    "                                y = test_target, \n",
    "                                cv = cv_method, \n",
    "                                n_jobs = -2,\n",
    "                                scoring = 'roc_auc')\n",
    "\n",
    "#apply power transform on the descriptive features of test data\n",
    "Data_sample_test_transformed = preprocessing.PowerTransformer().fit_transform(test_data)\n",
    "\n",
    "#compute cross validated score for Naive-Bayes model\n",
    "cv_results_NB = cross_val_score(estimator= gs_NB.best_estimator_,\n",
    "                                X = Data_sample_test_transformed,\n",
    "                                y = test_target, \n",
    "                                cv = cv_method, \n",
    "                                n_jobs = -2,\n",
    "                                scoring = 'roc_auc')"
   ]
  },
  {
   "cell_type": "markdown",
   "metadata": {},
   "source": [
    "Now that we have the scores available in respective variables, we will consolidate these values and store them in a data frame `df_cross_val`. Using these values, we will plot a bar chart to compare the scores for all the models."
   ]
  },
  {
   "cell_type": "code",
   "execution_count": 56,
   "metadata": {},
   "outputs": [],
   "source": [
    "#create data frame to store cross validation scores for all 4 models\n",
    "\n",
    "#create first column classifiers_cross_val\n",
    "classifiers_cross_val_list = ['K-Nearest \\nNeighbours', 'Decision\\nTree', 'Random\\nDecision\\nTree', 'Naive\\nBayes']\n",
    "\n",
    "#create second column classifiers_cross_val_value\n",
    "classifiers_cross_val_list_values = [cv_results_KNN.mean().round(3),\n",
    "                                     cv_results_DT.mean().round(3),\n",
    "                                     cv_results_RDT.mean().round(3),\n",
    "                                     cv_results_NB.mean().round(3)]\n",
    "\n",
    "#create the data frame\n",
    "df_cross_val = pd.DataFrame(columns = ['classifiers_cross_val', 'classifiers_cross_val_value'])\n",
    "df_cross_val['classifiers_cross_val'] = classifiers_cross_val_list\n",
    "df_cross_val['classifiers_cross_val_value'] = classifiers_cross_val_list_values"
   ]
  },
  {
   "cell_type": "code",
   "execution_count": 57,
   "metadata": {},
   "outputs": [
    {
     "data": {
      "image/png": "[encoded data removed]",
      "text/plain": [
       "<Figure size 432x432 with 1 Axes>"
      ]
     },
     "metadata": {
      "needs_background": "light"
     },
     "output_type": "display_data"
    }
   ],
   "source": [
    "#plot bar chart for cross validation score of all 4 models\n",
    "\n",
    "fig = plt.figure(figsize = (6, 6))\n",
    "plt.rcParams.update({'font.size': 12})\n",
    "ax = fig.add_axes([0, 0, 1, 1])\n",
    "x = df_cross_val['classifiers_cross_val']\n",
    "x_pos = [i for i, _ in enumerate(x)]\n",
    "\n",
    "rects1 = ax.bar(x_pos, df_cross_val['classifiers_cross_val_value'])\n",
    "plt.xlabel('\\nClassifiers')\n",
    "plt.ylabel('Cross Validation Scores\\n')\n",
    "plt.title('Figure 16: Performance Comparison of Classifiers\\n')\n",
    "plt.xticks(x_pos, x)\n",
    "for rect in rects1:\n",
    "        height = rect.get_height()\n",
    "        ax.text(rect.get_x() + rect.get_width() / 1.75, \n",
    "                1.00 * height, \n",
    "                '%.2f' % float(height),\n",
    "                ha='center', \n",
    "                va='bottom',\n",
    "                fontsize='12')\n",
    "        \n",
    "plt.show()"
   ]
  },
  {
   "cell_type": "markdown",
   "metadata": {},
   "source": [
    "From the above bar chart, as per the AUC score obtained from cross validation, we can see that the best performing model is Naive Bayes. To check if this model is significantly better than other models, we will perform paired t-test. For this, we will use `stats.ttest_rel()` function from `SciPy` module of `Scikit-Learn` module."
   ]
  },
  {
   "cell_type": "code",
   "execution_count": 58,
   "metadata": {},
   "outputs": [
    {
     "name": "stdout",
     "output_type": "stream",
     "text": [
      "\n",
      "Results of Paired t-test for scores of RDT and NB model:\n",
      "Ttest_relResult(statistic=-3.5563010460305056, pvalue=0.0031611246508446884)\n",
      "\n",
      "Results of Paired t-test for scores of DT and NB model:\n",
      "Ttest_relResult(statistic=-5.987033246368519, pvalue=3.328191346983796e-05)\n",
      "\n",
      "Results of Paired t-test for scores of KNN and NB model:\n",
      "Ttest_relResult(statistic=-5.774035439981433, pvalue=4.8170744333407465e-05)\n"
     ]
    }
   ],
   "source": [
    "#compute and display results for paired t-test\n",
    "\n",
    "print('\\nResults of Paired t-test for scores of RDT and NB model:')\n",
    "print(stats.ttest_rel(cv_results_RDT, cv_results_NB))\n",
    "\n",
    "print('\\nResults of Paired t-test for scores of DT and NB model:')\n",
    "print(stats.ttest_rel(cv_results_DT, cv_results_NB))\n",
    "\n",
    "print('\\nResults of Paired t-test for scores of KNN and NB model:')\n",
    "print(stats.ttest_rel(cv_results_KNN, cv_results_NB))"
   ]
  },
  {
   "cell_type": "markdown",
   "metadata": {},
   "source": [
    "From above output, at significance level of 95%, Naive-Bayes model is significantly better than k-Nearest Neighbours, Decision Tree and Random Forests as the p-values are less than 0.05.\n",
    "\n",
    "We will now compare the performances using other metrics like **confusion matrix**, **precision**, **recall** and **f1-score**."
   ]
  },
  {
   "cell_type": "markdown",
   "metadata": {},
   "source": [
    "### 7.5.2. Using other Performance Metrics"
   ]
  },
  {
   "cell_type": "markdown",
   "metadata": {},
   "source": [
    "We performed the above comparison using the AUC score and cross validation strategy for model evaluation. Now, using the trained models available in `gs_kNN`, `gs_DT`, `gs_RDT` and `gs_NB`, we will predict the target feature using `test_data`. Then using `test_target`, we will evaluate the performance for every model.\n",
    "\n",
    "We will now compute the predicted values for k-Nearest Neighbours, Decision Tree, Random Forests and Naive Bayes using the `predict()` function and store them  in `pred_KNN`, `pred_DT`, `pred_RDT` and `pred_NB` respectively."
   ]
  },
  {
   "cell_type": "code",
   "execution_count": 59,
   "metadata": {},
   "outputs": [],
   "source": [
    "#predict target feature for test_data using k-Nearest Neighbours\n",
    "pred_KNN = gs_kNN.predict(test_data)\n",
    "\n",
    "#predict target feature for test_data using Decision Tree\n",
    "pred_DT = gs_DT.predict(test_data)\n",
    "\n",
    "#predict target feature for test_data using Random Forests \n",
    "pred_RDT= gs_RDT.predict(test_data)\n",
    "\n",
    "#predict target feature for test_data using Naive Bayes\n",
    "pred_NB= gs_NB.predict(Data_sample_test_transformed)"
   ]
  },
  {
   "cell_type": "markdown",
   "metadata": {},
   "source": [
    "Now that we have predicted the values, we will construct a confusion matrix using the predicted target feature values and values in `test_target`. Confusion matrix tells us the count of values which were predicted correctly and also which were not predicted correctly."
   ]
  },
  {
   "cell_type": "code",
   "execution_count": 60,
   "metadata": {},
   "outputs": [
    {
     "name": "stdout",
     "output_type": "stream",
     "text": [
      "\n",
      "Confusion matrix for K-Nearest Neighbor\n",
      "[[283  42]\n",
      " [ 67  58]]\n",
      "\n",
      "Confusion matrix for Decision Tree\n",
      "[[284  41]\n",
      " [ 73  52]]\n",
      "\n",
      "Confusion matrix for Random Decision Tree\n",
      "[[276  49]\n",
      " [ 62  63]]\n",
      "\n",
      "Confusion matrix for Naive Bayes\n",
      "[[273  52]\n",
      " [ 45  80]]\n"
     ]
    }
   ],
   "source": [
    "print(\"\\nConfusion matrix for K-Nearest Neighbor\") \n",
    "print(metrics.confusion_matrix(test_target, pred_KNN))\n",
    "\n",
    "print(\"\\nConfusion matrix for Decision Tree\") \n",
    "print(metrics.confusion_matrix(test_target, pred_DT))\n",
    "\n",
    "print(\"\\nConfusion matrix for Random Decision Tree\") \n",
    "print(metrics.confusion_matrix(test_target, pred_RDT))\n",
    "\n",
    "print(\"\\nConfusion matrix for Naive Bayes\") \n",
    "print(metrics.confusion_matrix(test_target, pred_NB))"
   ]
  },
  {
   "cell_type": "markdown",
   "metadata": {},
   "source": [
    "Now that we have computed the confusion matrix, we will compute the precision, recall and F1-score for each model. All these metrics can be calculated by `classification_report()` report function from `sklearn.metrics` module of `Scikit-Learn` package."
   ]
  },
  {
   "cell_type": "code",
   "execution_count": 61,
   "metadata": {},
   "outputs": [
    {
     "name": "stdout",
     "output_type": "stream",
     "text": [
      "\n",
      "Classification Report for K-Nearest Neighbor\n",
      "              precision    recall  f1-score   support\n",
      "\n",
      "           0       0.81      0.87      0.84       325\n",
      "           1       0.58      0.46      0.52       125\n",
      "\n",
      "    accuracy                           0.76       450\n",
      "   macro avg       0.69      0.67      0.68       450\n",
      "weighted avg       0.75      0.76      0.75       450\n",
      "\n",
      "\n",
      "Classification Report for Naive Bayes\n",
      "              precision    recall  f1-score   support\n",
      "\n",
      "           0       0.86      0.84      0.85       325\n",
      "           1       0.61      0.64      0.62       125\n",
      "\n",
      "    accuracy                           0.78       450\n",
      "   macro avg       0.73      0.74      0.74       450\n",
      "weighted avg       0.79      0.78      0.79       450\n",
      "\n",
      "\n",
      "Classification Report for Decision Tree\n",
      "              precision    recall  f1-score   support\n",
      "\n",
      "           0       0.80      0.87      0.83       325\n",
      "           1       0.56      0.42      0.48       125\n",
      "\n",
      "    accuracy                           0.75       450\n",
      "   macro avg       0.68      0.64      0.65       450\n",
      "weighted avg       0.73      0.75      0.73       450\n",
      "\n",
      "\n",
      "Classification Report for  Random Decision Tree\n",
      "              precision    recall  f1-score   support\n",
      "\n",
      "           0       0.82      0.85      0.83       325\n",
      "           1       0.56      0.50      0.53       125\n",
      "\n",
      "    accuracy                           0.75       450\n",
      "   macro avg       0.69      0.68      0.68       450\n",
      "weighted avg       0.75      0.75      0.75       450\n",
      "\n"
     ]
    }
   ],
   "source": [
    "print(\"\\nClassification Report for K-Nearest Neighbor\") \n",
    "print(metrics.classification_report(test_target, pred_KNN))\n",
    "\n",
    "print(\"\\nClassification Report for Naive Bayes\") \n",
    "print(metrics.classification_report(test_target, pred_NB))\n",
    "\n",
    "print(\"\\nClassification Report for Decision Tree\") \n",
    "print(metrics.classification_report(test_target, pred_DT))\n",
    "\n",
    "print(\"\\nClassification Report for  Random Decision Tree\") \n",
    "print(metrics.classification_report(test_target, pred_RDT))"
   ]
  },
  {
   "cell_type": "markdown",
   "metadata": {},
   "source": [
    "For our problem statement where we are trying to predict the churners, we will use the recall metric. Recall, also called as True Positive Rate is the ability of the model to extract the positive class values from the dataset. We are using this metric because it is good idea to predict as many potential churners as possible. In the process, the model might predict even few of the non-churners as churners(False Positive Cases). But that is acceptable because the loss is more in losing out on existing customers rather than in providing extra services to current customers.\n",
    "\n",
    "So, to compare the models, in the above classification report, we will check recall value for the positive class. The recall value of Positive class is highest for the Naive-Bayes classifier.\n",
    "\n",
    "We got same model using both AUC and Recall performance metric. Our approach however has some limitations. We will now discuss these limitations."
   ]
  },
  {
   "cell_type": "markdown",
   "metadata": {},
   "source": [
    "## 7.6. Limitations"
   ]
  },
  {
   "cell_type": "markdown",
   "metadata": {},
   "source": [
    "1. Due to technical limitations, we are considering a sample of just 1500 instances out of 7032. Because of this, the model is not able to capture all the variability present in the data.\n",
    "2. We have fixed the random state to reproduce the results. It is possible that by fixing this random state, we are capturing limited variations in data. The model could perform better in the case where a different random state is considered.\n",
    "3. Again due to technical limitations, we are considering limited hyper-parameters values for tuning. It is possible that for hyper-parameter values which we have not considered, the models might perform even better.\n",
    "4. Lastly, we applied the same feature selection strategy for all the classifying models. It is possible to look for optimal feature selection methodology for each classifying model. This will provide us with optimal features to be used to train each classifying model."
   ]
  },
  {
   "cell_type": "markdown",
   "metadata": {},
   "source": [
    "***"
   ]
  },
  {
   "cell_type": "markdown",
   "metadata": {},
   "source": [
    "# 8. Summary &amp; Conclusions"
   ]
  },
  {
   "cell_type": "markdown",
   "metadata": {},
   "source": [
    "From the exploratory analysis we observed that the churn rate was high for customers who were using the Fibre Optic Internet Service. Also, the churn rate was high for customers who were subscribed to the service on month-to-month contract basis. From the predictive modelling, we observed that the Naive-Bayes classification algorithm outperformed other 3 in terms of AUC score. Also, the recall returned was highest for Naive-Bayes. \n",
    "\n",
    "We can conclude that, for the business to lower the churn rate of customers, it should focus on improving its Fibre Optic Internet Service and also workout the strategy so that they can convince the customers to opt for longer contracts. Also, for predicting if the customer is potentially a churner, Naive Bayes classification algorithm will perform best."
   ]
  },
  {
   "cell_type": "markdown",
   "metadata": {},
   "source": [
    "***"
   ]
  },
  {
   "cell_type": "markdown",
   "metadata": {},
   "source": [
    "# 9. References"
   ]
  },
  {
   "cell_type": "markdown",
   "metadata": {},
   "source": [
    "1. Aksakalli, Vural. (2019). Telecommunication Customer Churn[GitHub Repository]. Available at https://github.com/vaksakalli/datasets/blob/master/telco_customer_churn.csv  \n",
    "[Accessed: 19th May 2020]\n",
    "2. Aksakalli, Vural. (2019). RFI Selector Class, Case Study Predicting Income Status[GitHub Repository]. Available at https://www.featureranking.com/tutorials/machine-learning-tutorials/case-study-predicting-income-status/\n",
    "3. Aksakalli, Vural. (2019). get_search_results() function, Case Study Predicting Income Status[GitHub Repository]. Available at https://www.featureranking.com/tutorials/machine-learning-tutorials/case-study-predicting-income-status/"
   ]
  },
  {
   "cell_type": "markdown",
   "metadata": {},
   "source": [
    "   "
   ]
  },
  {
   "cell_type": "markdown",
   "metadata": {},
   "source": [
    "<center><i><b>End Of Report</b></i></center>"
   ]
  }
 ],
 "metadata": {
  "kernelspec": {
   "display_name": "Python 3",
   "language": "python",
   "name": "python3"
  },
  "language_info": {
   "codemirror_mode": {
    "name": "ipython",
    "version": 3
   },
   "file_extension": ".py",
   "mimetype": "text/x-python",
   "name": "python",
   "nbconvert_exporter": "python",
   "pygments_lexer": "ipython3",
   "version": "3.7.6"
  },
  "toc": {
   "base_numbering": 1,
   "nav_menu": {},
   "number_sections": true,
   "sideBar": true,
   "skip_h1_title": false,
   "title_cell": "Table of Contents",
   "title_sidebar": "Contents",
   "toc_cell": true,
   "toc_position": {},
   "toc_section_display": true,
   "toc_window_display": false
  }
 },
 "nbformat": 4,
 "nbformat_minor": 2
}
